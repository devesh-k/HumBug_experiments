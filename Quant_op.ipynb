{
 "cells": [
  {
   "cell_type": "code",
   "execution_count": 5,
   "id": "0a99d5fc",
   "metadata": {
    "scrolled": true
   },
   "outputs": [
    {
     "name": "stdout",
     "output_type": "stream",
     "text": [
      "Looking in indexes: https://pypi.org/simple, https://pypi.ngc.nvidia.com\n",
      "Requirement already satisfied: jupyterlab in /opt/conda/lib/python3.8/site-packages (4.0.7)\n",
      "Requirement already satisfied: traitlets in /opt/conda/lib/python3.8/site-packages (from jupyterlab) (5.13.0)\n",
      "Requirement already satisfied: jinja2>=3.0.3 in /opt/conda/lib/python3.8/site-packages (from jupyterlab) (3.0.3)\n",
      "Requirement already satisfied: tornado>=6.2.0 in /opt/conda/lib/python3.8/site-packages (from jupyterlab) (6.3.3)\n",
      "Requirement already satisfied: jupyter-lsp>=2.0.0 in /opt/conda/lib/python3.8/site-packages (from jupyterlab) (2.2.0)\n",
      "Requirement already satisfied: importlib-resources>=1.4 in /opt/conda/lib/python3.8/site-packages (from jupyterlab) (5.4.0)\n",
      "Requirement already satisfied: importlib-metadata>=4.8.3 in /opt/conda/lib/python3.8/site-packages (from jupyterlab) (6.8.0)\n",
      "Requirement already satisfied: notebook-shim>=0.2 in /opt/conda/lib/python3.8/site-packages (from jupyterlab) (0.2.3)\n",
      "Requirement already satisfied: packaging in /opt/conda/lib/python3.8/site-packages (from jupyterlab) (21.3)\n",
      "Requirement already satisfied: tomli in /opt/conda/lib/python3.8/site-packages (from jupyterlab) (1.2.2)\n",
      "Requirement already satisfied: jupyterlab-server<3,>=2.19.0 in /opt/conda/lib/python3.8/site-packages (from jupyterlab) (2.25.0)\n",
      "Requirement already satisfied: jupyter-core in /opt/conda/lib/python3.8/site-packages (from jupyterlab) (5.5.0)\n",
      "Requirement already satisfied: async-lru>=1.0.0 in /opt/conda/lib/python3.8/site-packages (from jupyterlab) (2.0.4)\n",
      "Requirement already satisfied: ipykernel in /opt/conda/lib/python3.8/site-packages (from jupyterlab) (6.26.0)\n",
      "Requirement already satisfied: jupyter-server<3,>=2.4.0 in /opt/conda/lib/python3.8/site-packages (from jupyterlab) (2.9.1)\n",
      "Requirement already satisfied: typing-extensions>=4.0.0 in /opt/conda/lib/python3.8/site-packages (from async-lru>=1.0.0->jupyterlab) (4.0.1)\n",
      "Requirement already satisfied: zipp>=0.5 in /opt/conda/lib/python3.8/site-packages (from importlib-metadata>=4.8.3->jupyterlab) (3.6.0)\n",
      "Requirement already satisfied: MarkupSafe>=2.0 in /opt/conda/lib/python3.8/site-packages (from jinja2>=3.0.3->jupyterlab) (2.0.1)\n",
      "Requirement already satisfied: websocket-client in /opt/conda/lib/python3.8/site-packages (from jupyter-server<3,>=2.4.0->jupyterlab) (1.6.4)\n",
      "Requirement already satisfied: jupyter-client>=7.4.4 in /opt/conda/lib/python3.8/site-packages (from jupyter-server<3,>=2.4.0->jupyterlab) (7.4.9)\n",
      "Requirement already satisfied: jupyter-events>=0.6.0 in /opt/conda/lib/python3.8/site-packages (from jupyter-server<3,>=2.4.0->jupyterlab) (0.8.0)\n",
      "Requirement already satisfied: jupyter-server-terminals in /opt/conda/lib/python3.8/site-packages (from jupyter-server<3,>=2.4.0->jupyterlab) (0.4.4)\n",
      "Requirement already satisfied: anyio>=3.1.0 in /opt/conda/lib/python3.8/site-packages (from jupyter-server<3,>=2.4.0->jupyterlab) (4.0.0)\n",
      "Requirement already satisfied: overrides in /opt/conda/lib/python3.8/site-packages (from jupyter-server<3,>=2.4.0->jupyterlab) (7.4.0)\n",
      "Requirement already satisfied: prometheus-client in /opt/conda/lib/python3.8/site-packages (from jupyter-server<3,>=2.4.0->jupyterlab) (0.12.0)\n",
      "Requirement already satisfied: nbformat>=5.3.0 in /opt/conda/lib/python3.8/site-packages (from jupyter-server<3,>=2.4.0->jupyterlab) (5.9.2)\n",
      "Requirement already satisfied: pyzmq>=24 in /opt/conda/lib/python3.8/site-packages (from jupyter-server<3,>=2.4.0->jupyterlab) (25.1.1)\n",
      "Requirement already satisfied: terminado>=0.8.3 in /opt/conda/lib/python3.8/site-packages (from jupyter-server<3,>=2.4.0->jupyterlab) (0.12.1)\n",
      "Requirement already satisfied: send2trash>=1.8.2 in /opt/conda/lib/python3.8/site-packages (from jupyter-server<3,>=2.4.0->jupyterlab) (1.8.2)\n",
      "Requirement already satisfied: argon2-cffi in /opt/conda/lib/python3.8/site-packages (from jupyter-server<3,>=2.4.0->jupyterlab) (21.1.0)\n",
      "Requirement already satisfied: nbconvert>=6.4.4 in /opt/conda/lib/python3.8/site-packages (from jupyter-server<3,>=2.4.0->jupyterlab) (7.10.0)\n",
      "Requirement already satisfied: sniffio>=1.1 in /opt/conda/lib/python3.8/site-packages (from anyio>=3.1.0->jupyter-server<3,>=2.4.0->jupyterlab) (1.3.0)\n",
      "Requirement already satisfied: idna>=2.8 in /opt/conda/lib/python3.8/site-packages (from anyio>=3.1.0->jupyter-server<3,>=2.4.0->jupyterlab) (3.1)\n",
      "Requirement already satisfied: exceptiongroup>=1.0.2 in /opt/conda/lib/python3.8/site-packages (from anyio>=3.1.0->jupyter-server<3,>=2.4.0->jupyterlab) (1.1.3)\n",
      "Requirement already satisfied: python-dateutil>=2.8.2 in /opt/conda/lib/python3.8/site-packages (from jupyter-client>=7.4.4->jupyter-server<3,>=2.4.0->jupyterlab) (2.8.2)\n",
      "Requirement already satisfied: entrypoints in /opt/conda/lib/python3.8/site-packages (from jupyter-client>=7.4.4->jupyter-server<3,>=2.4.0->jupyterlab) (0.3)\n",
      "Requirement already satisfied: nest-asyncio>=1.5.4 in /opt/conda/lib/python3.8/site-packages (from jupyter-client>=7.4.4->jupyter-server<3,>=2.4.0->jupyterlab) (1.5.4)\n",
      "Requirement already satisfied: platformdirs>=2.5 in /opt/conda/lib/python3.8/site-packages (from jupyter-core->jupyterlab) (3.11.0)\n",
      "Requirement already satisfied: pyyaml>=5.3 in /opt/conda/lib/python3.8/site-packages (from jupyter-events>=0.6.0->jupyter-server<3,>=2.4.0->jupyterlab) (6.0)\n",
      "Requirement already satisfied: rfc3986-validator>=0.1.1 in /opt/conda/lib/python3.8/site-packages (from jupyter-events>=0.6.0->jupyter-server<3,>=2.4.0->jupyterlab) (0.1.1)\n",
      "Requirement already satisfied: rfc3339-validator in /opt/conda/lib/python3.8/site-packages (from jupyter-events>=0.6.0->jupyter-server<3,>=2.4.0->jupyterlab) (0.1.4)\n",
      "Requirement already satisfied: jsonschema[format-nongpl]>=4.18.0 in /opt/conda/lib/python3.8/site-packages (from jupyter-events>=0.6.0->jupyter-server<3,>=2.4.0->jupyterlab) (4.19.2)\n",
      "Requirement already satisfied: referencing in /opt/conda/lib/python3.8/site-packages (from jupyter-events>=0.6.0->jupyter-server<3,>=2.4.0->jupyterlab) (0.30.2)\n",
      "Requirement already satisfied: python-json-logger>=2.0.4 in /opt/conda/lib/python3.8/site-packages (from jupyter-events>=0.6.0->jupyter-server<3,>=2.4.0->jupyterlab) (2.0.7)\n",
      "Requirement already satisfied: jsonschema-specifications>=2023.03.6 in /opt/conda/lib/python3.8/site-packages (from jsonschema[format-nongpl]>=4.18.0->jupyter-events>=0.6.0->jupyter-server<3,>=2.4.0->jupyterlab) (2023.7.1)\n",
      "Requirement already satisfied: pkgutil-resolve-name>=1.3.10 in /opt/conda/lib/python3.8/site-packages (from jsonschema[format-nongpl]>=4.18.0->jupyter-events>=0.6.0->jupyter-server<3,>=2.4.0->jupyterlab) (1.3.10)\n",
      "Requirement already satisfied: rpds-py>=0.7.1 in /opt/conda/lib/python3.8/site-packages (from jsonschema[format-nongpl]>=4.18.0->jupyter-events>=0.6.0->jupyter-server<3,>=2.4.0->jupyterlab) (0.10.6)\n",
      "Requirement already satisfied: attrs>=22.2.0 in /opt/conda/lib/python3.8/site-packages (from jsonschema[format-nongpl]>=4.18.0->jupyter-events>=0.6.0->jupyter-server<3,>=2.4.0->jupyterlab) (23.1.0)\n",
      "Requirement already satisfied: jsonpointer>1.13 in /opt/conda/lib/python3.8/site-packages (from jsonschema[format-nongpl]>=4.18.0->jupyter-events>=0.6.0->jupyter-server<3,>=2.4.0->jupyterlab) (2.4)\n",
      "Requirement already satisfied: fqdn in /opt/conda/lib/python3.8/site-packages (from jsonschema[format-nongpl]>=4.18.0->jupyter-events>=0.6.0->jupyter-server<3,>=2.4.0->jupyterlab) (1.5.1)\n",
      "Requirement already satisfied: webcolors>=1.11 in /opt/conda/lib/python3.8/site-packages (from jsonschema[format-nongpl]>=4.18.0->jupyter-events>=0.6.0->jupyter-server<3,>=2.4.0->jupyterlab) (1.13)\n",
      "Requirement already satisfied: uri-template in /opt/conda/lib/python3.8/site-packages (from jsonschema[format-nongpl]>=4.18.0->jupyter-events>=0.6.0->jupyter-server<3,>=2.4.0->jupyterlab) (1.3.0)\n",
      "Requirement already satisfied: isoduration in /opt/conda/lib/python3.8/site-packages (from jsonschema[format-nongpl]>=4.18.0->jupyter-events>=0.6.0->jupyter-server<3,>=2.4.0->jupyterlab) (20.11.0)\n",
      "Requirement already satisfied: json5>=0.9.0 in /opt/conda/lib/python3.8/site-packages (from jupyterlab-server<3,>=2.19.0->jupyterlab) (0.9.6)\n",
      "Requirement already satisfied: requests>=2.31 in /opt/conda/lib/python3.8/site-packages (from jupyterlab-server<3,>=2.19.0->jupyterlab) (2.31.0)\n",
      "Requirement already satisfied: babel>=2.10 in /opt/conda/lib/python3.8/site-packages (from jupyterlab-server<3,>=2.19.0->jupyterlab) (2.13.1)\n",
      "Requirement already satisfied: pytz>=2015.7 in /opt/conda/lib/python3.8/site-packages (from babel>=2.10->jupyterlab-server<3,>=2.19.0->jupyterlab) (2021.3)\n",
      "Requirement already satisfied: defusedxml in /opt/conda/lib/python3.8/site-packages (from nbconvert>=6.4.4->jupyter-server<3,>=2.4.0->jupyterlab) (0.7.1)\n",
      "Requirement already satisfied: tinycss2 in /opt/conda/lib/python3.8/site-packages (from nbconvert>=6.4.4->jupyter-server<3,>=2.4.0->jupyterlab) (1.2.1)\n",
      "Requirement already satisfied: nbclient>=0.5.0 in /opt/conda/lib/python3.8/site-packages (from nbconvert>=6.4.4->jupyter-server<3,>=2.4.0->jupyterlab) (0.5.9)\n",
      "Requirement already satisfied: beautifulsoup4 in /opt/conda/lib/python3.8/site-packages (from nbconvert>=6.4.4->jupyter-server<3,>=2.4.0->jupyterlab) (4.10.0)\n",
      "Requirement already satisfied: pygments>=2.4.1 in /opt/conda/lib/python3.8/site-packages (from nbconvert>=6.4.4->jupyter-server<3,>=2.4.0->jupyterlab) (2.10.0)\n",
      "Requirement already satisfied: bleach!=5.0.0 in /opt/conda/lib/python3.8/site-packages (from nbconvert>=6.4.4->jupyter-server<3,>=2.4.0->jupyterlab) (4.1.0)\n",
      "Requirement already satisfied: jupyterlab-pygments in /opt/conda/lib/python3.8/site-packages (from nbconvert>=6.4.4->jupyter-server<3,>=2.4.0->jupyterlab) (0.1.2)\n",
      "Requirement already satisfied: mistune<4,>=2.0.3 in /opt/conda/lib/python3.8/site-packages (from nbconvert>=6.4.4->jupyter-server<3,>=2.4.0->jupyterlab) (3.0.2)\n",
      "Requirement already satisfied: pandocfilters>=1.4.1 in /opt/conda/lib/python3.8/site-packages (from nbconvert>=6.4.4->jupyter-server<3,>=2.4.0->jupyterlab) (1.5.0)\n",
      "Requirement already satisfied: webencodings in /opt/conda/lib/python3.8/site-packages (from bleach!=5.0.0->nbconvert>=6.4.4->jupyter-server<3,>=2.4.0->jupyterlab) (0.5.1)\n",
      "Requirement already satisfied: six>=1.9.0 in /opt/conda/lib/python3.8/site-packages (from bleach!=5.0.0->nbconvert>=6.4.4->jupyter-server<3,>=2.4.0->jupyterlab) (1.16.0)\n",
      "Requirement already satisfied: fastjsonschema in /opt/conda/lib/python3.8/site-packages (from nbformat>=5.3.0->jupyter-server<3,>=2.4.0->jupyterlab) (2.18.1)\n",
      "Requirement already satisfied: pyparsing!=3.0.5,>=2.0.2 in /opt/conda/lib/python3.8/site-packages (from packaging->jupyterlab) (3.0.6)\n",
      "Requirement already satisfied: certifi>=2017.4.17 in /opt/conda/lib/python3.8/site-packages (from requests>=2.31->jupyterlab-server<3,>=2.19.0->jupyterlab) (2021.10.8)\n",
      "Requirement already satisfied: urllib3<3,>=1.21.1 in /opt/conda/lib/python3.8/site-packages (from requests>=2.31->jupyterlab-server<3,>=2.19.0->jupyterlab) (1.26.7)\n",
      "Requirement already satisfied: charset-normalizer<4,>=2 in /opt/conda/lib/python3.8/site-packages (from requests>=2.31->jupyterlab-server<3,>=2.19.0->jupyterlab) (2.0.8)\n",
      "Requirement already satisfied: ptyprocess in /opt/conda/lib/python3.8/site-packages (from terminado>=0.8.3->jupyter-server<3,>=2.4.0->jupyterlab) (0.7.0)\n",
      "Requirement already satisfied: cffi>=1.0.0 in /opt/conda/lib/python3.8/site-packages (from argon2-cffi->jupyter-server<3,>=2.4.0->jupyterlab) (1.15.0)\n",
      "Requirement already satisfied: pycparser in /opt/conda/lib/python3.8/site-packages (from cffi>=1.0.0->argon2-cffi->jupyter-server<3,>=2.4.0->jupyterlab) (2.21)\n",
      "Requirement already satisfied: soupsieve>1.2 in /opt/conda/lib/python3.8/site-packages (from beautifulsoup4->nbconvert>=6.4.4->jupyter-server<3,>=2.4.0->jupyterlab) (2.3)\n",
      "Requirement already satisfied: matplotlib-inline>=0.1 in /opt/conda/lib/python3.8/site-packages (from ipykernel->jupyterlab) (0.1.3)\n",
      "Requirement already satisfied: psutil in /opt/conda/lib/python3.8/site-packages (from ipykernel->jupyterlab) (5.8.0)\n",
      "Requirement already satisfied: debugpy>=1.6.5 in /opt/conda/lib/python3.8/site-packages (from ipykernel->jupyterlab) (1.8.0)\n",
      "Requirement already satisfied: ipython>=7.23.1 in /opt/conda/lib/python3.8/site-packages (from ipykernel->jupyterlab) (7.30.0)\n",
      "Requirement already satisfied: comm>=0.1.1 in /opt/conda/lib/python3.8/site-packages (from ipykernel->jupyterlab) (0.1.4)\n",
      "Requirement already satisfied: setuptools>=18.5 in /opt/conda/lib/python3.8/site-packages (from ipython>=7.23.1->ipykernel->jupyterlab) (59.4.0)\n",
      "Requirement already satisfied: backcall in /opt/conda/lib/python3.8/site-packages (from ipython>=7.23.1->ipykernel->jupyterlab) (0.2.0)\n",
      "Requirement already satisfied: prompt-toolkit!=3.0.0,!=3.0.1,<3.1.0,>=2.0.0 in /opt/conda/lib/python3.8/site-packages (from ipython>=7.23.1->ipykernel->jupyterlab) (3.0.39)\n",
      "Requirement already satisfied: pickleshare in /opt/conda/lib/python3.8/site-packages (from ipython>=7.23.1->ipykernel->jupyterlab) (0.7.5)\n",
      "Requirement already satisfied: jedi>=0.16 in /opt/conda/lib/python3.8/site-packages (from ipython>=7.23.1->ipykernel->jupyterlab) (0.18.1)\n",
      "Requirement already satisfied: decorator in /opt/conda/lib/python3.8/site-packages (from ipython>=7.23.1->ipykernel->jupyterlab) (5.1.0)\n",
      "Requirement already satisfied: pexpect>4.3 in /opt/conda/lib/python3.8/site-packages (from ipython>=7.23.1->ipykernel->jupyterlab) (4.8.0)\n",
      "Requirement already satisfied: parso<0.9.0,>=0.8.0 in /opt/conda/lib/python3.8/site-packages (from jedi>=0.16->ipython>=7.23.1->ipykernel->jupyterlab) (0.8.3)\n",
      "Requirement already satisfied: wcwidth in /opt/conda/lib/python3.8/site-packages (from prompt-toolkit!=3.0.0,!=3.0.1,<3.1.0,>=2.0.0->ipython>=7.23.1->ipykernel->jupyterlab) (0.2.5)\n",
      "Requirement already satisfied: arrow>=0.15.0 in /opt/conda/lib/python3.8/site-packages (from isoduration->jsonschema[format-nongpl]>=4.18.0->jupyter-events>=0.6.0->jupyter-server<3,>=2.4.0->jupyterlab) (1.3.0)\n",
      "Requirement already satisfied: types-python-dateutil>=2.8.10 in /opt/conda/lib/python3.8/site-packages (from arrow>=0.15.0->isoduration->jsonschema[format-nongpl]>=4.18.0->jupyter-events>=0.6.0->jupyter-server<3,>=2.4.0->jupyterlab) (2.8.19.14)\n",
      "\u001b[33mWARNING: Running pip as the 'root' user can result in broken permissions and conflicting behaviour with the system package manager. It is recommended to use a virtual environment instead: https://pip.pypa.io/warnings/venv\u001b[0m\n",
      "Looking in indexes: https://pypi.org/simple, https://pypi.ngc.nvidia.com\n",
      "Requirement already satisfied: jupyter in /opt/conda/lib/python3.8/site-packages (1.0.0)\n",
      "Requirement already satisfied: nbconvert in /opt/conda/lib/python3.8/site-packages (from jupyter) (7.10.0)\n",
      "Requirement already satisfied: ipykernel in /opt/conda/lib/python3.8/site-packages (from jupyter) (6.26.0)\n",
      "Requirement already satisfied: qtconsole in /opt/conda/lib/python3.8/site-packages (from jupyter) (5.4.4)\n",
      "Requirement already satisfied: notebook in /opt/conda/lib/python3.8/site-packages (from jupyter) (6.4.1)\n",
      "Requirement already satisfied: ipywidgets in /opt/conda/lib/python3.8/site-packages (from jupyter) (8.1.1)\n",
      "Requirement already satisfied: jupyter-console in /opt/conda/lib/python3.8/site-packages (from jupyter) (6.6.3)\n",
      "Requirement already satisfied: nest-asyncio in /opt/conda/lib/python3.8/site-packages (from ipykernel->jupyter) (1.5.4)\n",
      "Requirement already satisfied: packaging in /opt/conda/lib/python3.8/site-packages (from ipykernel->jupyter) (21.3)\n",
      "Requirement already satisfied: comm>=0.1.1 in /opt/conda/lib/python3.8/site-packages (from ipykernel->jupyter) (0.1.4)\n",
      "Requirement already satisfied: traitlets>=5.4.0 in /opt/conda/lib/python3.8/site-packages (from ipykernel->jupyter) (5.13.0)\n",
      "Requirement already satisfied: matplotlib-inline>=0.1 in /opt/conda/lib/python3.8/site-packages (from ipykernel->jupyter) (0.1.3)\n",
      "Requirement already satisfied: jupyter-core!=5.0.*,>=4.12 in /opt/conda/lib/python3.8/site-packages (from ipykernel->jupyter) (5.5.0)\n",
      "Requirement already satisfied: debugpy>=1.6.5 in /opt/conda/lib/python3.8/site-packages (from ipykernel->jupyter) (1.8.0)\n",
      "Requirement already satisfied: psutil in /opt/conda/lib/python3.8/site-packages (from ipykernel->jupyter) (5.8.0)\n",
      "Requirement already satisfied: pyzmq>=20 in /opt/conda/lib/python3.8/site-packages (from ipykernel->jupyter) (25.1.1)\n",
      "Requirement already satisfied: tornado>=6.1 in /opt/conda/lib/python3.8/site-packages (from ipykernel->jupyter) (6.3.3)\n",
      "Requirement already satisfied: ipython>=7.23.1 in /opt/conda/lib/python3.8/site-packages (from ipykernel->jupyter) (7.30.0)\n",
      "Requirement already satisfied: jupyter-client>=6.1.12 in /opt/conda/lib/python3.8/site-packages (from ipykernel->jupyter) (7.4.9)\n",
      "Requirement already satisfied: jedi>=0.16 in /opt/conda/lib/python3.8/site-packages (from ipython>=7.23.1->ipykernel->jupyter) (0.18.1)\n",
      "Requirement already satisfied: pexpect>4.3 in /opt/conda/lib/python3.8/site-packages (from ipython>=7.23.1->ipykernel->jupyter) (4.8.0)\n",
      "Requirement already satisfied: pygments in /opt/conda/lib/python3.8/site-packages (from ipython>=7.23.1->ipykernel->jupyter) (2.10.0)\n",
      "Requirement already satisfied: decorator in /opt/conda/lib/python3.8/site-packages (from ipython>=7.23.1->ipykernel->jupyter) (5.1.0)\n",
      "Requirement already satisfied: setuptools>=18.5 in /opt/conda/lib/python3.8/site-packages (from ipython>=7.23.1->ipykernel->jupyter) (59.4.0)\n",
      "Requirement already satisfied: backcall in /opt/conda/lib/python3.8/site-packages (from ipython>=7.23.1->ipykernel->jupyter) (0.2.0)\n",
      "Requirement already satisfied: pickleshare in /opt/conda/lib/python3.8/site-packages (from ipython>=7.23.1->ipykernel->jupyter) (0.7.5)\n",
      "Requirement already satisfied: prompt-toolkit!=3.0.0,!=3.0.1,<3.1.0,>=2.0.0 in /opt/conda/lib/python3.8/site-packages (from ipython>=7.23.1->ipykernel->jupyter) (3.0.39)\n",
      "Requirement already satisfied: parso<0.9.0,>=0.8.0 in /opt/conda/lib/python3.8/site-packages (from jedi>=0.16->ipython>=7.23.1->ipykernel->jupyter) (0.8.3)\n",
      "Requirement already satisfied: entrypoints in /opt/conda/lib/python3.8/site-packages (from jupyter-client>=6.1.12->ipykernel->jupyter) (0.3)\n",
      "Requirement already satisfied: python-dateutil>=2.8.2 in /opt/conda/lib/python3.8/site-packages (from jupyter-client>=6.1.12->ipykernel->jupyter) (2.8.2)\n",
      "Requirement already satisfied: platformdirs>=2.5 in /opt/conda/lib/python3.8/site-packages (from jupyter-core!=5.0.*,>=4.12->ipykernel->jupyter) (3.11.0)\n",
      "Requirement already satisfied: ptyprocess>=0.5 in /opt/conda/lib/python3.8/site-packages (from pexpect>4.3->ipython>=7.23.1->ipykernel->jupyter) (0.7.0)\n",
      "Requirement already satisfied: wcwidth in /opt/conda/lib/python3.8/site-packages (from prompt-toolkit!=3.0.0,!=3.0.1,<3.1.0,>=2.0.0->ipython>=7.23.1->ipykernel->jupyter) (0.2.5)\n",
      "Requirement already satisfied: six>=1.5 in /opt/conda/lib/python3.8/site-packages (from python-dateutil>=2.8.2->jupyter-client>=6.1.12->ipykernel->jupyter) (1.16.0)\n",
      "Requirement already satisfied: jupyterlab-widgets~=3.0.9 in /opt/conda/lib/python3.8/site-packages (from ipywidgets->jupyter) (3.0.9)\n",
      "Requirement already satisfied: widgetsnbextension~=4.0.9 in /opt/conda/lib/python3.8/site-packages (from ipywidgets->jupyter) (4.0.9)\n",
      "Requirement already satisfied: jupyterlab-pygments in /opt/conda/lib/python3.8/site-packages (from nbconvert->jupyter) (0.1.2)\n",
      "Requirement already satisfied: bleach!=5.0.0 in /opt/conda/lib/python3.8/site-packages (from nbconvert->jupyter) (4.1.0)\n",
      "Requirement already satisfied: jinja2>=3.0 in /opt/conda/lib/python3.8/site-packages (from nbconvert->jupyter) (3.0.3)\n",
      "Requirement already satisfied: mistune<4,>=2.0.3 in /opt/conda/lib/python3.8/site-packages (from nbconvert->jupyter) (3.0.2)\n",
      "Requirement already satisfied: defusedxml in /opt/conda/lib/python3.8/site-packages (from nbconvert->jupyter) (0.7.1)\n",
      "Requirement already satisfied: nbformat>=5.7 in /opt/conda/lib/python3.8/site-packages (from nbconvert->jupyter) (5.9.2)\n",
      "Requirement already satisfied: beautifulsoup4 in /opt/conda/lib/python3.8/site-packages (from nbconvert->jupyter) (4.10.0)\n",
      "Requirement already satisfied: tinycss2 in /opt/conda/lib/python3.8/site-packages (from nbconvert->jupyter) (1.2.1)\n",
      "Requirement already satisfied: markupsafe>=2.0 in /opt/conda/lib/python3.8/site-packages (from nbconvert->jupyter) (2.0.1)\n",
      "Requirement already satisfied: pandocfilters>=1.4.1 in /opt/conda/lib/python3.8/site-packages (from nbconvert->jupyter) (1.5.0)\n",
      "Requirement already satisfied: importlib-metadata>=3.6 in /opt/conda/lib/python3.8/site-packages (from nbconvert->jupyter) (6.8.0)\n",
      "Requirement already satisfied: nbclient>=0.5.0 in /opt/conda/lib/python3.8/site-packages (from nbconvert->jupyter) (0.5.9)\n",
      "Requirement already satisfied: webencodings in /opt/conda/lib/python3.8/site-packages (from bleach!=5.0.0->nbconvert->jupyter) (0.5.1)\n",
      "Requirement already satisfied: zipp>=0.5 in /opt/conda/lib/python3.8/site-packages (from importlib-metadata>=3.6->nbconvert->jupyter) (3.6.0)\n",
      "Requirement already satisfied: fastjsonschema in /opt/conda/lib/python3.8/site-packages (from nbformat>=5.7->nbconvert->jupyter) (2.18.1)\n",
      "Requirement already satisfied: jsonschema>=2.6 in /opt/conda/lib/python3.8/site-packages (from nbformat>=5.7->nbconvert->jupyter) (4.19.2)\n",
      "Requirement already satisfied: importlib-resources>=1.4.0 in /opt/conda/lib/python3.8/site-packages (from jsonschema>=2.6->nbformat>=5.7->nbconvert->jupyter) (5.4.0)\n",
      "Requirement already satisfied: pkgutil-resolve-name>=1.3.10 in /opt/conda/lib/python3.8/site-packages (from jsonschema>=2.6->nbformat>=5.7->nbconvert->jupyter) (1.3.10)\n",
      "Requirement already satisfied: rpds-py>=0.7.1 in /opt/conda/lib/python3.8/site-packages (from jsonschema>=2.6->nbformat>=5.7->nbconvert->jupyter) (0.10.6)\n",
      "Requirement already satisfied: jsonschema-specifications>=2023.03.6 in /opt/conda/lib/python3.8/site-packages (from jsonschema>=2.6->nbformat>=5.7->nbconvert->jupyter) (2023.7.1)\n",
      "Requirement already satisfied: attrs>=22.2.0 in /opt/conda/lib/python3.8/site-packages (from jsonschema>=2.6->nbformat>=5.7->nbconvert->jupyter) (23.1.0)\n",
      "Requirement already satisfied: referencing>=0.28.4 in /opt/conda/lib/python3.8/site-packages (from jsonschema>=2.6->nbformat>=5.7->nbconvert->jupyter) (0.30.2)\n",
      "Requirement already satisfied: soupsieve>1.2 in /opt/conda/lib/python3.8/site-packages (from beautifulsoup4->nbconvert->jupyter) (2.3)\n",
      "Requirement already satisfied: terminado>=0.8.3 in /opt/conda/lib/python3.8/site-packages (from notebook->jupyter) (0.12.1)\n",
      "Requirement already satisfied: ipython-genutils in /opt/conda/lib/python3.8/site-packages (from notebook->jupyter) (0.2.0)\n",
      "Requirement already satisfied: prometheus-client in /opt/conda/lib/python3.8/site-packages (from notebook->jupyter) (0.12.0)\n",
      "Requirement already satisfied: Send2Trash>=1.5.0 in /opt/conda/lib/python3.8/site-packages (from notebook->jupyter) (1.8.2)\n",
      "Requirement already satisfied: argon2-cffi in /opt/conda/lib/python3.8/site-packages (from notebook->jupyter) (21.1.0)\n",
      "Requirement already satisfied: cffi>=1.0.0 in /opt/conda/lib/python3.8/site-packages (from argon2-cffi->notebook->jupyter) (1.15.0)\n",
      "Requirement already satisfied: pycparser in /opt/conda/lib/python3.8/site-packages (from cffi>=1.0.0->argon2-cffi->notebook->jupyter) (2.21)\n",
      "Requirement already satisfied: pyparsing!=3.0.5,>=2.0.2 in /opt/conda/lib/python3.8/site-packages (from packaging->ipykernel->jupyter) (3.0.6)\n",
      "Requirement already satisfied: qtpy>=2.4.0 in /opt/conda/lib/python3.8/site-packages (from qtconsole->jupyter) (2.4.1)\n",
      "\u001b[33mWARNING: Running pip as the 'root' user can result in broken permissions and conflicting behaviour with the system package manager. It is recommended to use a virtual environment instead: https://pip.pypa.io/warnings/venv\u001b[0m\n",
      "Looking in indexes: https://pypi.org/simple, https://pypi.ngc.nvidia.com\n",
      "Requirement already satisfied: ipywidgets in /opt/conda/lib/python3.8/site-packages (8.1.1)\n",
      "Requirement already satisfied: ipython>=6.1.0 in /opt/conda/lib/python3.8/site-packages (from ipywidgets) (7.30.0)\n",
      "Requirement already satisfied: widgetsnbextension~=4.0.9 in /opt/conda/lib/python3.8/site-packages (from ipywidgets) (4.0.9)\n",
      "Requirement already satisfied: traitlets>=4.3.1 in /opt/conda/lib/python3.8/site-packages (from ipywidgets) (5.13.0)\n",
      "Requirement already satisfied: comm>=0.1.3 in /opt/conda/lib/python3.8/site-packages (from ipywidgets) (0.1.4)\n",
      "Requirement already satisfied: jupyterlab-widgets~=3.0.9 in /opt/conda/lib/python3.8/site-packages (from ipywidgets) (3.0.9)\n",
      "Requirement already satisfied: setuptools>=18.5 in /opt/conda/lib/python3.8/site-packages (from ipython>=6.1.0->ipywidgets) (59.4.0)\n",
      "Requirement already satisfied: pexpect>4.3 in /opt/conda/lib/python3.8/site-packages (from ipython>=6.1.0->ipywidgets) (4.8.0)\n",
      "Requirement already satisfied: pickleshare in /opt/conda/lib/python3.8/site-packages (from ipython>=6.1.0->ipywidgets) (0.7.5)\n",
      "Requirement already satisfied: prompt-toolkit!=3.0.0,!=3.0.1,<3.1.0,>=2.0.0 in /opt/conda/lib/python3.8/site-packages (from ipython>=6.1.0->ipywidgets) (3.0.39)\n",
      "Requirement already satisfied: decorator in /opt/conda/lib/python3.8/site-packages (from ipython>=6.1.0->ipywidgets) (5.1.0)\n",
      "Requirement already satisfied: jedi>=0.16 in /opt/conda/lib/python3.8/site-packages (from ipython>=6.1.0->ipywidgets) (0.18.1)\n",
      "Requirement already satisfied: pygments in /opt/conda/lib/python3.8/site-packages (from ipython>=6.1.0->ipywidgets) (2.10.0)\n",
      "Requirement already satisfied: matplotlib-inline in /opt/conda/lib/python3.8/site-packages (from ipython>=6.1.0->ipywidgets) (0.1.3)\n",
      "Requirement already satisfied: backcall in /opt/conda/lib/python3.8/site-packages (from ipython>=6.1.0->ipywidgets) (0.2.0)\n",
      "Requirement already satisfied: parso<0.9.0,>=0.8.0 in /opt/conda/lib/python3.8/site-packages (from jedi>=0.16->ipython>=6.1.0->ipywidgets) (0.8.3)\n",
      "Requirement already satisfied: ptyprocess>=0.5 in /opt/conda/lib/python3.8/site-packages (from pexpect>4.3->ipython>=6.1.0->ipywidgets) (0.7.0)\n",
      "Requirement already satisfied: wcwidth in /opt/conda/lib/python3.8/site-packages (from prompt-toolkit!=3.0.0,!=3.0.1,<3.1.0,>=2.0.0->ipython>=6.1.0->ipywidgets) (0.2.5)\n",
      "\u001b[33mWARNING: Running pip as the 'root' user can result in broken permissions and conflicting behaviour with the system package manager. It is recommended to use a virtual environment instead: https://pip.pypa.io/warnings/venv\u001b[0m\n"
     ]
    }
   ],
   "source": [
    "!pip install --upgrade jupyterlab\n",
    "!pip install --upgrade jupyter\n",
    "!pip install ipywidgets"
   ]
  },
  {
   "cell_type": "code",
   "execution_count": 6,
   "id": "e560b6b0",
   "metadata": {},
   "outputs": [
    {
     "name": "stderr",
     "output_type": "stream",
     "text": [
      "/opt/conda/lib/python3.8/site-packages/nnAudio/Spectrogram.py:4: Warning: importing Spectrogram subpackage will be deprecated soon. You should import the feature extractor from the feature subpackage. See actual documentation.\n",
      "  warnings.warn(\n"
     ]
    }
   ],
   "source": [
    "\n",
    "import os\n",
    "import pandas as pd\n",
    "import sys\n",
    "#sys.path.append(0, os.path.abspath('ComParE2022_VecNet/src'))\n",
    "sys.path.append('../../src')\n",
    "\n",
    "import config ,config_pytorch\n",
    "#from evaluate import get_results\n",
    "import numpy as np\n",
    "\n",
    "# Troubleshooting and visualisation\n",
    "# import IPython.display as ipd\n",
    "\n",
    "# humbug lib imports\n",
    "from sklearn.metrics import accuracy_score\n",
    "from sklearn.metrics import f1_score\n",
    "#from PyTorch import config_pytorch\n",
    "from datetime import datetime\n",
    "import math\n",
    "import pickle\n",
    "\n",
    "from torch.utils.data import TensorDataset, DataLoader\n",
    "import torch.nn.functional as F\n",
    "import torch.nn as nn\n",
    "import torch\n",
    "import torch.optim as optim\n",
    "import numpy as np\n",
    "from sklearn.metrics import accuracy_score\n",
    "from datetime import datetime\n",
    "import time\n",
    "\n",
    "import matplotlib\n",
    "import matplotlib.pyplot as plt\n",
    "from sklearn.metrics import confusion_matrix, classification_report\n",
    "from sklearn.metrics import precision_recall_curve, plot_precision_recall_curve\n",
    "from sklearn.metrics import average_precision_score\n",
    "import sys\n",
    "\n",
    "from tqdm.notebook import tqdm\n",
    "# additional pytorch tools\n",
    "import random\n",
    "import torchaudio\n",
    "import torchaudio.transforms as AT\n",
    "import torchvision.transforms as VT\n",
    "from torch.cuda.amp import autocast, GradScaler\n",
    "from timm.scheduler.cosine_lr import CosineLRScheduler\n",
    "import timm\n",
    "import timm.optim\n",
    "from timm.loss import BinaryCrossEntropy\n",
    "from timm.utils import NativeScaler\n",
    "from timm.models import model_parameters\n",
    "from glob import glob\n",
    "## nnAudio\n",
    "from nnAudio import features , Spectrogram\n",
    "from torch.utils.data.sampler import SubsetRandomSampler\n",
    "from torch.utils.data import Dataset, DataLoader\n",
    "import argparse\n"
   ]
  },
  {
   "cell_type": "code",
   "execution_count": 7,
   "id": "1d945897",
   "metadata": {},
   "outputs": [],
   "source": [
    "num_calibration_batches = 32\n"
   ]
  },
  {
   "cell_type": "code",
   "execution_count": 8,
   "id": "0bd6c132",
   "metadata": {},
   "outputs": [],
   "source": [
    "class MyModel(nn.Module):\n",
    "    def __init__(self, model_name, image_size = 224):\n",
    "        super().__init__()\n",
    "        # num_classes=0 removes the pretrained head\n",
    "        self.backbone = timm.create_model(model_name,\n",
    "                        pretrained=True, num_classes=2, in_chans=1, \n",
    "                        drop_path_rate=0.2, global_pool='max',\n",
    "                        drop_rate=0.25)\n",
    "        #####  This section is model specific\n",
    "        #### It freezes some fo the layers by name\n",
    "        #### you'll have to inspect the model to see the names\n",
    "                #### end layer freezing\n",
    "        self.out = nn.Linear(self.backbone.num_features, 1)\n",
    "        self.sizer = VT.Resize((image_size,image_size),antialias = True)\n",
    "        self.spec_layer = features.STFT(n_fft=int(config.NFFT), freq_bins=None, hop_length=int(config.n_hop),\n",
    "                              window='hann', freq_scale='linear', center=True, pad_mode='reflect',\n",
    "                           sr=config.rate, output_format=\"Magnitude\", trainable=False,verbose = False).to('cuda')\n",
    "        self.batch_norm = nn.BatchNorm2d(num_features= 1)\n",
    "        #self.augment_layer = augment_audio(trainable = True, sample_rate = config.rate)\n",
    "        self.quant = torch.ao.quantization.QuantStub()\n",
    "        self.dequant = torch.ao.quantization.DeQuantStub()\n",
    "        \n",
    "    def forward(self, x,train = True):\n",
    "        # first compute spectrogram\n",
    "        x = self.quant(x)\n",
    "        spec_gram = self.spec_layer(x)\n",
    "        #print(\"post spec gram shape = \",spec_gram.shape)\n",
    "        spec_gram = self.batch_norm(spec_gram.unsqueeze(dim = 1))\n",
    "        #print(\"post norm shape = \",spec_gram.shape)\n",
    "        spec_gram_nan_check = torch.isnan(spec_gram).any().item()\n",
    "        assert not (spec_gram_nan_check) ,\"Tensor contains NaN values after spec gram creation.\"\n",
    "        \n",
    "        with torch.no_grad():\n",
    "            if train == True:\n",
    "                #generate a random number and if condition is met apply aug\n",
    "                ta_transformations_rndm_choice = VT.RandomChoice([AT.FrequencyMasking(freq_mask_param=100),AT.TimeMasking(time_mask_param=50)], p=[.4, .4])\n",
    "                ta_transformations_rndm_apply = VT.RandomApply([AT.FrequencyMasking(freq_mask_param=50),AT.TimeMasking(time_mask_param=25)],p = .15)\n",
    "                spec_gram = ta_transformations_rndm_choice(spec_gram)\n",
    "                spec_gram = ta_transformations_rndm_apply(spec_gram)\n",
    "                spec_gram_nan_check = torch.isnan(spec_gram).any().item()\n",
    "                assert not (spec_gram_nan_check) ,\"Tensor contains NaN values after augmentations  \"\n",
    "                \n",
    "                \n",
    "            \n",
    "        \n",
    "        x = self.sizer(spec_gram.squeeze(dim = 1))\n",
    "        #print(\"post sizer shape = \",x.shape)\n",
    "        x = x.unsqueeze(dim = 1)\n",
    "        #print(\"post unsqueeze shape = \",x.shape)\n",
    "        \n",
    "        # then repeat channels\n",
    "        del spec_gram,spec_gram_nan_check\n",
    "        if DEBUG:\n",
    "            print(\"Final shape that goes to backbone = \" + str(x.shape))\n",
    "                \n",
    "        x = self.backbone(x)\n",
    "        backbone_op_nan_check = torch.isnan(x).any().item()\n",
    "        assert not (backbone_op_nan_check) ,\"Tensor contains NaN values in the backbone OP \"\n",
    "        #print(\"x shape = \" + str(x.shape))\n",
    "        #print(\"x = \" +str(x))\n",
    "        #pred = nn.Softmax(x)\n",
    "        x = self.dequant(x)\n",
    "        pred = x\n",
    "        #print(np.argmax(pred.detach().cpu().numpy()))\n",
    "        #print(pred)\n",
    "        output = {\"prediction\": pred }\n",
    "        #print(output)\n",
    "        del x , backbone_op_nan_check\n",
    "        return output\n"
   ]
  },
  {
   "cell_type": "code",
   "execution_count": 9,
   "id": "f064f71b",
   "metadata": {},
   "outputs": [],
   "source": [
    "def load_model(model_file):\n",
    "    model =MyModel('convnext_small',384)\n",
    "    state_dict = torch.load(model_file)\n",
    "    model.load_state_dict(state_dict)\n",
    "    model.to('cpu')\n",
    "    return model"
   ]
  },
  {
   "cell_type": "code",
   "execution_count": 13,
   "id": "7a6a1928",
   "metadata": {},
   "outputs": [],
   "source": [
    "import os\n",
    "#model_file = os.path.join(\"..\",\"..\",\"models\",\"model_med12_2023_10_30_08_18_32.pth\")\n",
    "model_file = \"model_int_8_qntz.pth\""
   ]
  },
  {
   "cell_type": "code",
   "execution_count": 14,
   "id": "6081582f",
   "metadata": {},
   "outputs": [
    {
     "name": "stdout",
     "output_type": "stream",
     "text": [
      "model_int_8_qntz.pth\n"
     ]
    }
   ],
   "source": [
    "print(model_file)"
   ]
  },
  {
   "cell_type": "code",
   "execution_count": 15,
   "id": "b0d5de90",
   "metadata": {},
   "outputs": [
    {
     "name": "stderr",
     "output_type": "stream",
     "text": [
      "/opt/conda/lib/python3.8/site-packages/torch/_utils.py:355: UserWarning: TypedStorage is deprecated. It will be removed in the future and UntypedStorage will be the only storage class. This should only matter to you if you are using storages directly.  To access UntypedStorage directly, use tensor.untyped_storage() instead of tensor.storage()\n",
      "  device=storage.device,\n"
     ]
    },
    {
     "ename": "RuntimeError",
     "evalue": "Error(s) in loading state_dict for MyModel:\n\tMissing key(s) in state_dict: \"backbone.stages.0.blocks.0.mlp.fc1.weight\", \"backbone.stages.0.blocks.0.mlp.fc1.bias\", \"backbone.stages.0.blocks.0.mlp.fc2.weight\", \"backbone.stages.0.blocks.0.mlp.fc2.bias\", \"backbone.stages.0.blocks.1.mlp.fc1.weight\", \"backbone.stages.0.blocks.1.mlp.fc1.bias\", \"backbone.stages.0.blocks.1.mlp.fc2.weight\", \"backbone.stages.0.blocks.1.mlp.fc2.bias\", \"backbone.stages.0.blocks.2.mlp.fc1.weight\", \"backbone.stages.0.blocks.2.mlp.fc1.bias\", \"backbone.stages.0.blocks.2.mlp.fc2.weight\", \"backbone.stages.0.blocks.2.mlp.fc2.bias\", \"backbone.stages.1.blocks.0.mlp.fc1.weight\", \"backbone.stages.1.blocks.0.mlp.fc1.bias\", \"backbone.stages.1.blocks.0.mlp.fc2.weight\", \"backbone.stages.1.blocks.0.mlp.fc2.bias\", \"backbone.stages.1.blocks.1.mlp.fc1.weight\", \"backbone.stages.1.blocks.1.mlp.fc1.bias\", \"backbone.stages.1.blocks.1.mlp.fc2.weight\", \"backbone.stages.1.blocks.1.mlp.fc2.bias\", \"backbone.stages.1.blocks.2.mlp.fc1.weight\", \"backbone.stages.1.blocks.2.mlp.fc1.bias\", \"backbone.stages.1.blocks.2.mlp.fc2.weight\", \"backbone.stages.1.blocks.2.mlp.fc2.bias\", \"backbone.stages.2.blocks.0.mlp.fc1.weight\", \"backbone.stages.2.blocks.0.mlp.fc1.bias\", \"backbone.stages.2.blocks.0.mlp.fc2.weight\", \"backbone.stages.2.blocks.0.mlp.fc2.bias\", \"backbone.stages.2.blocks.1.mlp.fc1.weight\", \"backbone.stages.2.blocks.1.mlp.fc1.bias\", \"backbone.stages.2.blocks.1.mlp.fc2.weight\", \"backbone.stages.2.blocks.1.mlp.fc2.bias\", \"backbone.stages.2.blocks.2.mlp.fc1.weight\", \"backbone.stages.2.blocks.2.mlp.fc1.bias\", \"backbone.stages.2.blocks.2.mlp.fc2.weight\", \"backbone.stages.2.blocks.2.mlp.fc2.bias\", \"backbone.stages.2.blocks.3.mlp.fc1.weight\", \"backbone.stages.2.blocks.3.mlp.fc1.bias\", \"backbone.stages.2.blocks.3.mlp.fc2.weight\", \"backbone.stages.2.blocks.3.mlp.fc2.bias\", \"backbone.stages.2.blocks.4.mlp.fc1.weight\", \"backbone.stages.2.blocks.4.mlp.fc1.bias\", \"backbone.stages.2.blocks.4.mlp.fc2.weight\", \"backbone.stages.2.blocks.4.mlp.fc2.bias\", \"backbone.stages.2.blocks.5.mlp.fc1.weight\", \"backbone.stages.2.blocks.5.mlp.fc1.bias\", \"backbone.stages.2.blocks.5.mlp.fc2.weight\", \"backbone.stages.2.blocks.5.mlp.fc2.bias\", \"backbone.stages.2.blocks.6.mlp.fc1.weight\", \"backbone.stages.2.blocks.6.mlp.fc1.bias\", \"backbone.stages.2.blocks.6.mlp.fc2.weight\", \"backbone.stages.2.blocks.6.mlp.fc2.bias\", \"backbone.stages.2.blocks.7.mlp.fc1.weight\", \"backbone.stages.2.blocks.7.mlp.fc1.bias\", \"backbone.stages.2.blocks.7.mlp.fc2.weight\", \"backbone.stages.2.blocks.7.mlp.fc2.bias\", \"backbone.stages.2.blocks.8.mlp.fc1.weight\", \"backbone.stages.2.blocks.8.mlp.fc1.bias\", \"backbone.stages.2.blocks.8.mlp.fc2.weight\", \"backbone.stages.2.blocks.8.mlp.fc2.bias\", \"backbone.stages.2.blocks.9.mlp.fc1.weight\", \"backbone.stages.2.blocks.9.mlp.fc1.bias\", \"backbone.stages.2.blocks.9.mlp.fc2.weight\", \"backbone.stages.2.blocks.9.mlp.fc2.bias\", \"backbone.stages.2.blocks.10.mlp.fc1.weight\", \"backbone.stages.2.blocks.10.mlp.fc1.bias\", \"backbone.stages.2.blocks.10.mlp.fc2.weight\", \"backbone.stages.2.blocks.10.mlp.fc2.bias\", \"backbone.stages.2.blocks.11.mlp.fc1.weight\", \"backbone.stages.2.blocks.11.mlp.fc1.bias\", \"backbone.stages.2.blocks.11.mlp.fc2.weight\", \"backbone.stages.2.blocks.11.mlp.fc2.bias\", \"backbone.stages.2.blocks.12.mlp.fc1.weight\", \"backbone.stages.2.blocks.12.mlp.fc1.bias\", \"backbone.stages.2.blocks.12.mlp.fc2.weight\", \"backbone.stages.2.blocks.12.mlp.fc2.bias\", \"backbone.stages.2.blocks.13.mlp.fc1.weight\", \"backbone.stages.2.blocks.13.mlp.fc1.bias\", \"backbone.stages.2.blocks.13.mlp.fc2.weight\", \"backbone.stages.2.blocks.13.mlp.fc2.bias\", \"backbone.stages.2.blocks.14.mlp.fc1.weight\", \"backbone.stages.2.blocks.14.mlp.fc1.bias\", \"backbone.stages.2.blocks.14.mlp.fc2.weight\", \"backbone.stages.2.blocks.14.mlp.fc2.bias\", \"backbone.stages.2.blocks.15.mlp.fc1.weight\", \"backbone.stages.2.blocks.15.mlp.fc1.bias\", \"backbone.stages.2.blocks.15.mlp.fc2.weight\", \"backbone.stages.2.blocks.15.mlp.fc2.bias\", \"backbone.stages.2.blocks.16.mlp.fc1.weight\", \"backbone.stages.2.blocks.16.mlp.fc1.bias\", \"backbone.stages.2.blocks.16.mlp.fc2.weight\", \"backbone.stages.2.blocks.16.mlp.fc2.bias\", \"backbone.stages.2.blocks.17.mlp.fc1.weight\", \"backbone.stages.2.blocks.17.mlp.fc1.bias\", \"backbone.stages.2.blocks.17.mlp.fc2.weight\", \"backbone.stages.2.blocks.17.mlp.fc2.bias\", \"backbone.stages.2.blocks.18.mlp.fc1.weight\", \"backbone.stages.2.blocks.18.mlp.fc1.bias\", \"backbone.stages.2.blocks.18.mlp.fc2.weight\", \"backbone.stages.2.blocks.18.mlp.fc2.bias\", \"backbone.stages.2.blocks.19.mlp.fc1.weight\", \"backbone.stages.2.blocks.19.mlp.fc1.bias\", \"backbone.stages.2.blocks.19.mlp.fc2.weight\", \"backbone.stages.2.blocks.19.mlp.fc2.bias\", \"backbone.stages.2.blocks.20.mlp.fc1.weight\", \"backbone.stages.2.blocks.20.mlp.fc1.bias\", \"backbone.stages.2.blocks.20.mlp.fc2.weight\", \"backbone.stages.2.blocks.20.mlp.fc2.bias\", \"backbone.stages.2.blocks.21.mlp.fc1.weight\", \"backbone.stages.2.blocks.21.mlp.fc1.bias\", \"backbone.stages.2.blocks.21.mlp.fc2.weight\", \"backbone.stages.2.blocks.21.mlp.fc2.bias\", \"backbone.stages.2.blocks.22.mlp.fc1.weight\", \"backbone.stages.2.blocks.22.mlp.fc1.bias\", \"backbone.stages.2.blocks.22.mlp.fc2.weight\", \"backbone.stages.2.blocks.22.mlp.fc2.bias\", \"backbone.stages.2.blocks.23.mlp.fc1.weight\", \"backbone.stages.2.blocks.23.mlp.fc1.bias\", \"backbone.stages.2.blocks.23.mlp.fc2.weight\", \"backbone.stages.2.blocks.23.mlp.fc2.bias\", \"backbone.stages.2.blocks.24.mlp.fc1.weight\", \"backbone.stages.2.blocks.24.mlp.fc1.bias\", \"backbone.stages.2.blocks.24.mlp.fc2.weight\", \"backbone.stages.2.blocks.24.mlp.fc2.bias\", \"backbone.stages.2.blocks.25.mlp.fc1.weight\", \"backbone.stages.2.blocks.25.mlp.fc1.bias\", \"backbone.stages.2.blocks.25.mlp.fc2.weight\", \"backbone.stages.2.blocks.25.mlp.fc2.bias\", \"backbone.stages.2.blocks.26.mlp.fc1.weight\", \"backbone.stages.2.blocks.26.mlp.fc1.bias\", \"backbone.stages.2.blocks.26.mlp.fc2.weight\", \"backbone.stages.2.blocks.26.mlp.fc2.bias\", \"backbone.stages.3.blocks.0.mlp.fc1.weight\", \"backbone.stages.3.blocks.0.mlp.fc1.bias\", \"backbone.stages.3.blocks.0.mlp.fc2.weight\", \"backbone.stages.3.blocks.0.mlp.fc2.bias\", \"backbone.stages.3.blocks.1.mlp.fc1.weight\", \"backbone.stages.3.blocks.1.mlp.fc1.bias\", \"backbone.stages.3.blocks.1.mlp.fc2.weight\", \"backbone.stages.3.blocks.1.mlp.fc2.bias\", \"backbone.stages.3.blocks.2.mlp.fc1.weight\", \"backbone.stages.3.blocks.2.mlp.fc1.bias\", \"backbone.stages.3.blocks.2.mlp.fc2.weight\", \"backbone.stages.3.blocks.2.mlp.fc2.bias\", \"backbone.head.fc.weight\", \"backbone.head.fc.bias\", \"out.weight\", \"out.bias\". \n\tUnexpected key(s) in state_dict: \"backbone.stages.0.blocks.0.mlp.fc1.scale\", \"backbone.stages.0.blocks.0.mlp.fc1.zero_point\", \"backbone.stages.0.blocks.0.mlp.fc1._packed_params.dtype\", \"backbone.stages.0.blocks.0.mlp.fc1._packed_params._packed_params\", \"backbone.stages.0.blocks.0.mlp.fc2.scale\", \"backbone.stages.0.blocks.0.mlp.fc2.zero_point\", \"backbone.stages.0.blocks.0.mlp.fc2._packed_params.dtype\", \"backbone.stages.0.blocks.0.mlp.fc2._packed_params._packed_params\", \"backbone.stages.0.blocks.1.mlp.fc1.scale\", \"backbone.stages.0.blocks.1.mlp.fc1.zero_point\", \"backbone.stages.0.blocks.1.mlp.fc1._packed_params.dtype\", \"backbone.stages.0.blocks.1.mlp.fc1._packed_params._packed_params\", \"backbone.stages.0.blocks.1.mlp.fc2.scale\", \"backbone.stages.0.blocks.1.mlp.fc2.zero_point\", \"backbone.stages.0.blocks.1.mlp.fc2._packed_params.dtype\", \"backbone.stages.0.blocks.1.mlp.fc2._packed_params._packed_params\", \"backbone.stages.0.blocks.2.mlp.fc1.scale\", \"backbone.stages.0.blocks.2.mlp.fc1.zero_point\", \"backbone.stages.0.blocks.2.mlp.fc1._packed_params.dtype\", \"backbone.stages.0.blocks.2.mlp.fc1._packed_params._packed_params\", \"backbone.stages.0.blocks.2.mlp.fc2.scale\", \"backbone.stages.0.blocks.2.mlp.fc2.zero_point\", \"backbone.stages.0.blocks.2.mlp.fc2._packed_params.dtype\", \"backbone.stages.0.blocks.2.mlp.fc2._packed_params._packed_params\", \"backbone.stages.1.blocks.0.mlp.fc1.scale\", \"backbone.stages.1.blocks.0.mlp.fc1.zero_point\", \"backbone.stages.1.blocks.0.mlp.fc1._packed_params.dtype\", \"backbone.stages.1.blocks.0.mlp.fc1._packed_params._packed_params\", \"backbone.stages.1.blocks.0.mlp.fc2.scale\", \"backbone.stages.1.blocks.0.mlp.fc2.zero_point\", \"backbone.stages.1.blocks.0.mlp.fc2._packed_params.dtype\", \"backbone.stages.1.blocks.0.mlp.fc2._packed_params._packed_params\", \"backbone.stages.1.blocks.1.mlp.fc1.scale\", \"backbone.stages.1.blocks.1.mlp.fc1.zero_point\", \"backbone.stages.1.blocks.1.mlp.fc1._packed_params.dtype\", \"backbone.stages.1.blocks.1.mlp.fc1._packed_params._packed_params\", \"backbone.stages.1.blocks.1.mlp.fc2.scale\", \"backbone.stages.1.blocks.1.mlp.fc2.zero_point\", \"backbone.stages.1.blocks.1.mlp.fc2._packed_params.dtype\", \"backbone.stages.1.blocks.1.mlp.fc2._packed_params._packed_params\", \"backbone.stages.1.blocks.2.mlp.fc1.scale\", \"backbone.stages.1.blocks.2.mlp.fc1.zero_point\", \"backbone.stages.1.blocks.2.mlp.fc1._packed_params.dtype\", \"backbone.stages.1.blocks.2.mlp.fc1._packed_params._packed_params\", \"backbone.stages.1.blocks.2.mlp.fc2.scale\", \"backbone.stages.1.blocks.2.mlp.fc2.zero_point\", \"backbone.stages.1.blocks.2.mlp.fc2._packed_params.dtype\", \"backbone.stages.1.blocks.2.mlp.fc2._packed_params._packed_params\", \"backbone.stages.2.blocks.0.mlp.fc1.scale\", \"backbone.stages.2.blocks.0.mlp.fc1.zero_point\", \"backbone.stages.2.blocks.0.mlp.fc1._packed_params.dtype\", \"backbone.stages.2.blocks.0.mlp.fc1._packed_params._packed_params\", \"backbone.stages.2.blocks.0.mlp.fc2.scale\", \"backbone.stages.2.blocks.0.mlp.fc2.zero_point\", \"backbone.stages.2.blocks.0.mlp.fc2._packed_params.dtype\", \"backbone.stages.2.blocks.0.mlp.fc2._packed_params._packed_params\", \"backbone.stages.2.blocks.1.mlp.fc1.scale\", \"backbone.stages.2.blocks.1.mlp.fc1.zero_point\", \"backbone.stages.2.blocks.1.mlp.fc1._packed_params.dtype\", \"backbone.stages.2.blocks.1.mlp.fc1._packed_params._packed_params\", \"backbone.stages.2.blocks.1.mlp.fc2.scale\", \"backbone.stages.2.blocks.1.mlp.fc2.zero_point\", \"backbone.stages.2.blocks.1.mlp.fc2._packed_params.dtype\", \"backbone.stages.2.blocks.1.mlp.fc2._packed_params._packed_params\", \"backbone.stages.2.blocks.2.mlp.fc1.scale\", \"backbone.stages.2.blocks.2.mlp.fc1.zero_point\", \"backbone.stages.2.blocks.2.mlp.fc1._packed_params.dtype\", \"backbone.stages.2.blocks.2.mlp.fc1._packed_params._packed_params\", \"backbone.stages.2.blocks.2.mlp.fc2.scale\", \"backbone.stages.2.blocks.2.mlp.fc2.zero_point\", \"backbone.stages.2.blocks.2.mlp.fc2._packed_params.dtype\", \"backbone.stages.2.blocks.2.mlp.fc2._packed_params._packed_params\", \"backbone.stages.2.blocks.3.mlp.fc1.scale\", \"backbone.stages.2.blocks.3.mlp.fc1.zero_point\", \"backbone.stages.2.blocks.3.mlp.fc1._packed_params.dtype\", \"backbone.stages.2.blocks.3.mlp.fc1._packed_params._packed_params\", \"backbone.stages.2.blocks.3.mlp.fc2.scale\", \"backbone.stages.2.blocks.3.mlp.fc2.zero_point\", \"backbone.stages.2.blocks.3.mlp.fc2._packed_params.dtype\", \"backbone.stages.2.blocks.3.mlp.fc2._packed_params._packed_params\", \"backbone.stages.2.blocks.4.mlp.fc1.scale\", \"backbone.stages.2.blocks.4.mlp.fc1.zero_point\", \"backbone.stages.2.blocks.4.mlp.fc1._packed_params.dtype\", \"backbone.stages.2.blocks.4.mlp.fc1._packed_params._packed_params\", \"backbone.stages.2.blocks.4.mlp.fc2.scale\", \"backbone.stages.2.blocks.4.mlp.fc2.zero_point\", \"backbone.stages.2.blocks.4.mlp.fc2._packed_params.dtype\", \"backbone.stages.2.blocks.4.mlp.fc2._packed_params._packed_params\", \"backbone.stages.2.blocks.5.mlp.fc1.scale\", \"backbone.stages.2.blocks.5.mlp.fc1.zero_point\", \"backbone.stages.2.blocks.5.mlp.fc1._packed_params.dtype\", \"backbone.stages.2.blocks.5.mlp.fc1._packed_params._packed_params\", \"backbone.stages.2.blocks.5.mlp.fc2.scale\", \"backbone.stages.2.blocks.5.mlp.fc2.zero_point\", \"backbone.stages.2.blocks.5.mlp.fc2._packed_params.dtype\", \"backbone.stages.2.blocks.5.mlp.fc2._packed_params._packed_params\", \"backbone.stages.2.blocks.6.mlp.fc1.scale\", \"backbone.stages.2.blocks.6.mlp.fc1.zero_point\", \"backbone.stages.2.blocks.6.mlp.fc1._packed_params.dtype\", \"backbone.stages.2.blocks.6.mlp.fc1._packed_params._packed_params\", \"backbone.stages.2.blocks.6.mlp.fc2.scale\", \"backbone.stages.2.blocks.6.mlp.fc2.zero_point\", \"backbone.stages.2.blocks.6.mlp.fc2._packed_params.dtype\", \"backbone.stages.2.blocks.6.mlp.fc2._packed_params._packed_params\", \"backbone.stages.2.blocks.7.mlp.fc1.scale\", \"backbone.stages.2.blocks.7.mlp.fc1.zero_point\", \"backbone.stages.2.blocks.7.mlp.fc1._packed_params.dtype\", \"backbone.stages.2.blocks.7.mlp.fc1._packed_params._packed_params\", \"backbone.stages.2.blocks.7.mlp.fc2.scale\", \"backbone.stages.2.blocks.7.mlp.fc2.zero_point\", \"backbone.stages.2.blocks.7.mlp.fc2._packed_params.dtype\", \"backbone.stages.2.blocks.7.mlp.fc2._packed_params._packed_params\", \"backbone.stages.2.blocks.8.mlp.fc1.scale\", \"backbone.stages.2.blocks.8.mlp.fc1.zero_point\", \"backbone.stages.2.blocks.8.mlp.fc1._packed_params.dtype\", \"backbone.stages.2.blocks.8.mlp.fc1._packed_params._packed_params\", \"backbone.stages.2.blocks.8.mlp.fc2.scale\", \"backbone.stages.2.blocks.8.mlp.fc2.zero_point\", \"backbone.stages.2.blocks.8.mlp.fc2._packed_params.dtype\", \"backbone.stages.2.blocks.8.mlp.fc2._packed_params._packed_params\", \"backbone.stages.2.blocks.9.mlp.fc1.scale\", \"backbone.stages.2.blocks.9.mlp.fc1.zero_point\", \"backbone.stages.2.blocks.9.mlp.fc1._packed_params.dtype\", \"backbone.stages.2.blocks.9.mlp.fc1._packed_params._packed_params\", \"backbone.stages.2.blocks.9.mlp.fc2.scale\", \"backbone.stages.2.blocks.9.mlp.fc2.zero_point\", \"backbone.stages.2.blocks.9.mlp.fc2._packed_params.dtype\", \"backbone.stages.2.blocks.9.mlp.fc2._packed_params._packed_params\", \"backbone.stages.2.blocks.10.mlp.fc1.scale\", \"backbone.stages.2.blocks.10.mlp.fc1.zero_point\", \"backbone.stages.2.blocks.10.mlp.fc1._packed_params.dtype\", \"backbone.stages.2.blocks.10.mlp.fc1._packed_params._packed_params\", \"backbone.stages.2.blocks.10.mlp.fc2.scale\", \"backbone.stages.2.blocks.10.mlp.fc2.zero_point\", \"backbone.stages.2.blocks.10.mlp.fc2._packed_params.dtype\", \"backbone.stages.2.blocks.10.mlp.fc2._packed_params._packed_params\", \"backbone.stages.2.blocks.11.mlp.fc1.scale\", \"backbone.stages.2.blocks.11.mlp.fc1.zero_point\", \"backbone.stages.2.blocks.11.mlp.fc1._packed_params.dtype\", \"backbone.stages.2.blocks.11.mlp.fc1._packed_params._packed_params\", \"backbone.stages.2.blocks.11.mlp.fc2.scale\", \"backbone.stages.2.blocks.11.mlp.fc2.zero_point\", \"backbone.stages.2.blocks.11.mlp.fc2._packed_params.dtype\", \"backbone.stages.2.blocks.11.mlp.fc2._packed_params._packed_params\", \"backbone.stages.2.blocks.12.mlp.fc1.scale\", \"backbone.stages.2.blocks.12.mlp.fc1.zero_point\", \"backbone.stages.2.blocks.12.mlp.fc1._packed_params.dtype\", \"backbone.stages.2.blocks.12.mlp.fc1._packed_params._packed_params\", \"backbone.stages.2.blocks.12.mlp.fc2.scale\", \"backbone.stages.2.blocks.12.mlp.fc2.zero_point\", \"backbone.stages.2.blocks.12.mlp.fc2._packed_params.dtype\", \"backbone.stages.2.blocks.12.mlp.fc2._packed_params._packed_params\", \"backbone.stages.2.blocks.13.mlp.fc1.scale\", \"backbone.stages.2.blocks.13.mlp.fc1.zero_point\", \"backbone.stages.2.blocks.13.mlp.fc1._packed_params.dtype\", \"backbone.stages.2.blocks.13.mlp.fc1._packed_params._packed_params\", \"backbone.stages.2.blocks.13.mlp.fc2.scale\", \"backbone.stages.2.blocks.13.mlp.fc2.zero_point\", \"backbone.stages.2.blocks.13.mlp.fc2._packed_params.dtype\", \"backbone.stages.2.blocks.13.mlp.fc2._packed_params._packed_params\", \"backbone.stages.2.blocks.14.mlp.fc1.scale\", \"backbone.stages.2.blocks.14.mlp.fc1.zero_point\", \"backbone.stages.2.blocks.14.mlp.fc1._packed_params.dtype\", \"backbone.stages.2.blocks.14.mlp.fc1._packed_params._packed_params\", \"backbone.stages.2.blocks.14.mlp.fc2.scale\", \"backbone.stages.2.blocks.14.mlp.fc2.zero_point\", \"backbone.stages.2.blocks.14.mlp.fc2._packed_params.dtype\", \"backbone.stages.2.blocks.14.mlp.fc2._packed_params._packed_params\", \"backbone.stages.2.blocks.15.mlp.fc1.scale\", \"backbone.stages.2.blocks.15.mlp.fc1.zero_point\", \"backbone.stages.2.blocks.15.mlp.fc1._packed_params.dtype\", \"backbone.stages.2.blocks.15.mlp.fc1._packed_params._packed_params\", \"backbone.stages.2.blocks.15.mlp.fc2.scale\", \"backbone.stages.2.blocks.15.mlp.fc2.zero_point\", \"backbone.stages.2.blocks.15.mlp.fc2._packed_params.dtype\", \"backbone.stages.2.blocks.15.mlp.fc2._packed_params._packed_params\", \"backbone.stages.2.blocks.16.mlp.fc1.scale\", \"backbone.stages.2.blocks.16.mlp.fc1.zero_point\", \"backbone.stages.2.blocks.16.mlp.fc1._packed_params.dtype\", \"backbone.stages.2.blocks.16.mlp.fc1._packed_params._packed_params\", \"backbone.stages.2.blocks.16.mlp.fc2.scale\", \"backbone.stages.2.blocks.16.mlp.fc2.zero_point\", \"backbone.stages.2.blocks.16.mlp.fc2._packed_params.dtype\", \"backbone.stages.2.blocks.16.mlp.fc2._packed_params._packed_params\", \"backbone.stages.2.blocks.17.mlp.fc1.scale\", \"backbone.stages.2.blocks.17.mlp.fc1.zero_point\", \"backbone.stages.2.blocks.17.mlp.fc1._packed_params.dtype\", \"backbone.stages.2.blocks.17.mlp.fc1._packed_params._packed_params\", \"backbone.stages.2.blocks.17.mlp.fc2.scale\", \"backbone.stages.2.blocks.17.mlp.fc2.zero_point\", \"backbone.stages.2.blocks.17.mlp.fc2._packed_params.dtype\", \"backbone.stages.2.blocks.17.mlp.fc2._packed_params._packed_params\", \"backbone.stages.2.blocks.18.mlp.fc1.scale\", \"backbone.stages.2.blocks.18.mlp.fc1.zero_point\", \"backbone.stages.2.blocks.18.mlp.fc1._packed_params.dtype\", \"backbone.stages.2.blocks.18.mlp.fc1._packed_params._packed_params\", \"backbone.stages.2.blocks.18.mlp.fc2.scale\", \"backbone.stages.2.blocks.18.mlp.fc2.zero_point\", \"backbone.stages.2.blocks.18.mlp.fc2._packed_params.dtype\", \"backbone.stages.2.blocks.18.mlp.fc2._packed_params._packed_params\", \"backbone.stages.2.blocks.19.mlp.fc1.scale\", \"backbone.stages.2.blocks.19.mlp.fc1.zero_point\", \"backbone.stages.2.blocks.19.mlp.fc1._packed_params.dtype\", \"backbone.stages.2.blocks.19.mlp.fc1._packed_params._packed_params\", \"backbone.stages.2.blocks.19.mlp.fc2.scale\", \"backbone.stages.2.blocks.19.mlp.fc2.zero_point\", \"backbone.stages.2.blocks.19.mlp.fc2._packed_params.dtype\", \"backbone.stages.2.blocks.19.mlp.fc2._packed_params._packed_params\", \"backbone.stages.2.blocks.20.mlp.fc1.scale\", \"backbone.stages.2.blocks.20.mlp.fc1.zero_point\", \"backbone.stages.2.blocks.20.mlp.fc1._packed_params.dtype\", \"backbone.stages.2.blocks.20.mlp.fc1._packed_params._packed_params\", \"backbone.stages.2.blocks.20.mlp.fc2.scale\", \"backbone.stages.2.blocks.20.mlp.fc2.zero_point\", \"backbone.stages.2.blocks.20.mlp.fc2._packed_params.dtype\", \"backbone.stages.2.blocks.20.mlp.fc2._packed_params._packed_params\", \"backbone.stages.2.blocks.21.mlp.fc1.scale\", \"backbone.stages.2.blocks.21.mlp.fc1.zero_point\", \"backbone.stages.2.blocks.21.mlp.fc1._packed_params.dtype\", \"backbone.stages.2.blocks.21.mlp.fc1._packed_params._packed_params\", \"backbone.stages.2.blocks.21.mlp.fc2.scale\", \"backbone.stages.2.blocks.21.mlp.fc2.zero_point\", \"backbone.stages.2.blocks.21.mlp.fc2._packed_params.dtype\", \"backbone.stages.2.blocks.21.mlp.fc2._packed_params._packed_params\", \"backbone.stages.2.blocks.22.mlp.fc1.scale\", \"backbone.stages.2.blocks.22.mlp.fc1.zero_point\", \"backbone.stages.2.blocks.22.mlp.fc1._packed_params.dtype\", \"backbone.stages.2.blocks.22.mlp.fc1._packed_params._packed_params\", \"backbone.stages.2.blocks.22.mlp.fc2.scale\", \"backbone.stages.2.blocks.22.mlp.fc2.zero_point\", \"backbone.stages.2.blocks.22.mlp.fc2._packed_params.dtype\", \"backbone.stages.2.blocks.22.mlp.fc2._packed_params._packed_params\", \"backbone.stages.2.blocks.23.mlp.fc1.scale\", \"backbone.stages.2.blocks.23.mlp.fc1.zero_point\", \"backbone.stages.2.blocks.23.mlp.fc1._packed_params.dtype\", \"backbone.stages.2.blocks.23.mlp.fc1._packed_params._packed_params\", \"backbone.stages.2.blocks.23.mlp.fc2.scale\", \"backbone.stages.2.blocks.23.mlp.fc2.zero_point\", \"backbone.stages.2.blocks.23.mlp.fc2._packed_params.dtype\", \"backbone.stages.2.blocks.23.mlp.fc2._packed_params._packed_params\", \"backbone.stages.2.blocks.24.mlp.fc1.scale\", \"backbone.stages.2.blocks.24.mlp.fc1.zero_point\", \"backbone.stages.2.blocks.24.mlp.fc1._packed_params.dtype\", \"backbone.stages.2.blocks.24.mlp.fc1._packed_params._packed_params\", \"backbone.stages.2.blocks.24.mlp.fc2.scale\", \"backbone.stages.2.blocks.24.mlp.fc2.zero_point\", \"backbone.stages.2.blocks.24.mlp.fc2._packed_params.dtype\", \"backbone.stages.2.blocks.24.mlp.fc2._packed_params._packed_params\", \"backbone.stages.2.blocks.25.mlp.fc1.scale\", \"backbone.stages.2.blocks.25.mlp.fc1.zero_point\", \"backbone.stages.2.blocks.25.mlp.fc1._packed_params.dtype\", \"backbone.stages.2.blocks.25.mlp.fc1._packed_params._packed_params\", \"backbone.stages.2.blocks.25.mlp.fc2.scale\", \"backbone.stages.2.blocks.25.mlp.fc2.zero_point\", \"backbone.stages.2.blocks.25.mlp.fc2._packed_params.dtype\", \"backbone.stages.2.blocks.25.mlp.fc2._packed_params._packed_params\", \"backbone.stages.2.blocks.26.mlp.fc1.scale\", \"backbone.stages.2.blocks.26.mlp.fc1.zero_point\", \"backbone.stages.2.blocks.26.mlp.fc1._packed_params.dtype\", \"backbone.stages.2.blocks.26.mlp.fc1._packed_params._packed_params\", \"backbone.stages.2.blocks.26.mlp.fc2.scale\", \"backbone.stages.2.blocks.26.mlp.fc2.zero_point\", \"backbone.stages.2.blocks.26.mlp.fc2._packed_params.dtype\", \"backbone.stages.2.blocks.26.mlp.fc2._packed_params._packed_params\", \"backbone.stages.3.blocks.0.mlp.fc1.scale\", \"backbone.stages.3.blocks.0.mlp.fc1.zero_point\", \"backbone.stages.3.blocks.0.mlp.fc1._packed_params.dtype\", \"backbone.stages.3.blocks.0.mlp.fc1._packed_params._packed_params\", \"backbone.stages.3.blocks.0.mlp.fc2.scale\", \"backbone.stages.3.blocks.0.mlp.fc2.zero_point\", \"backbone.stages.3.blocks.0.mlp.fc2._packed_params.dtype\", \"backbone.stages.3.blocks.0.mlp.fc2._packed_params._packed_params\", \"backbone.stages.3.blocks.1.mlp.fc1.scale\", \"backbone.stages.3.blocks.1.mlp.fc1.zero_point\", \"backbone.stages.3.blocks.1.mlp.fc1._packed_params.dtype\", \"backbone.stages.3.blocks.1.mlp.fc1._packed_params._packed_params\", \"backbone.stages.3.blocks.1.mlp.fc2.scale\", \"backbone.stages.3.blocks.1.mlp.fc2.zero_point\", \"backbone.stages.3.blocks.1.mlp.fc2._packed_params.dtype\", \"backbone.stages.3.blocks.1.mlp.fc2._packed_params._packed_params\", \"backbone.stages.3.blocks.2.mlp.fc1.scale\", \"backbone.stages.3.blocks.2.mlp.fc1.zero_point\", \"backbone.stages.3.blocks.2.mlp.fc1._packed_params.dtype\", \"backbone.stages.3.blocks.2.mlp.fc1._packed_params._packed_params\", \"backbone.stages.3.blocks.2.mlp.fc2.scale\", \"backbone.stages.3.blocks.2.mlp.fc2.zero_point\", \"backbone.stages.3.blocks.2.mlp.fc2._packed_params.dtype\", \"backbone.stages.3.blocks.2.mlp.fc2._packed_params._packed_params\", \"backbone.head.fc.scale\", \"backbone.head.fc.zero_point\", \"backbone.head.fc._packed_params.dtype\", \"backbone.head.fc._packed_params._packed_params\", \"out.scale\", \"out.zero_point\", \"out._packed_params.dtype\", \"out._packed_params._packed_params\". ",
     "output_type": "error",
     "traceback": [
      "\u001b[0;31m---------------------------------------------------------------------------\u001b[0m",
      "\u001b[0;31mRuntimeError\u001b[0m                              Traceback (most recent call last)",
      "\u001b[0;32m/tmp/ipykernel_37/3298232033.py\u001b[0m in \u001b[0;36m<module>\u001b[0;34m\u001b[0m\n\u001b[0;32m----> 1\u001b[0;31m \u001b[0mmyModel\u001b[0m \u001b[0;34m=\u001b[0m \u001b[0mload_model\u001b[0m\u001b[0;34m(\u001b[0m\u001b[0mmodel_file\u001b[0m\u001b[0;34m)\u001b[0m\u001b[0;34m.\u001b[0m\u001b[0mto\u001b[0m\u001b[0;34m(\u001b[0m\u001b[0;34m'cpu'\u001b[0m\u001b[0;34m)\u001b[0m\u001b[0;34m\u001b[0m\u001b[0;34m\u001b[0m\u001b[0m\n\u001b[0m\u001b[1;32m      2\u001b[0m \u001b[0;31m#print_model_size(myModel)\u001b[0m\u001b[0;34m\u001b[0m\u001b[0;34m\u001b[0m\u001b[0;34m\u001b[0m\u001b[0m\n",
      "\u001b[0;32m/tmp/ipykernel_37/564077997.py\u001b[0m in \u001b[0;36mload_model\u001b[0;34m(model_file)\u001b[0m\n\u001b[1;32m      2\u001b[0m     \u001b[0mmodel\u001b[0m \u001b[0;34m=\u001b[0m\u001b[0mMyModel\u001b[0m\u001b[0;34m(\u001b[0m\u001b[0;34m'convnext_small'\u001b[0m\u001b[0;34m,\u001b[0m\u001b[0;36m384\u001b[0m\u001b[0;34m)\u001b[0m\u001b[0;34m\u001b[0m\u001b[0;34m\u001b[0m\u001b[0m\n\u001b[1;32m      3\u001b[0m     \u001b[0mstate_dict\u001b[0m \u001b[0;34m=\u001b[0m \u001b[0mtorch\u001b[0m\u001b[0;34m.\u001b[0m\u001b[0mload\u001b[0m\u001b[0;34m(\u001b[0m\u001b[0mmodel_file\u001b[0m\u001b[0;34m)\u001b[0m\u001b[0;34m\u001b[0m\u001b[0;34m\u001b[0m\u001b[0m\n\u001b[0;32m----> 4\u001b[0;31m     \u001b[0mmodel\u001b[0m\u001b[0;34m.\u001b[0m\u001b[0mload_state_dict\u001b[0m\u001b[0;34m(\u001b[0m\u001b[0mstate_dict\u001b[0m\u001b[0;34m)\u001b[0m\u001b[0;34m\u001b[0m\u001b[0;34m\u001b[0m\u001b[0m\n\u001b[0m\u001b[1;32m      5\u001b[0m     \u001b[0mmodel\u001b[0m\u001b[0;34m.\u001b[0m\u001b[0mto\u001b[0m\u001b[0;34m(\u001b[0m\u001b[0;34m'cpu'\u001b[0m\u001b[0;34m)\u001b[0m\u001b[0;34m\u001b[0m\u001b[0;34m\u001b[0m\u001b[0m\n\u001b[1;32m      6\u001b[0m     \u001b[0;32mreturn\u001b[0m \u001b[0mmodel\u001b[0m\u001b[0;34m\u001b[0m\u001b[0;34m\u001b[0m\u001b[0m\n",
      "\u001b[0;32m/opt/conda/lib/python3.8/site-packages/torch/nn/modules/module.py\u001b[0m in \u001b[0;36mload_state_dict\u001b[0;34m(self, state_dict, strict, assign)\u001b[0m\n\u001b[1;32m   2150\u001b[0m \u001b[0;34m\u001b[0m\u001b[0m\n\u001b[1;32m   2151\u001b[0m         \u001b[0;32mif\u001b[0m \u001b[0mlen\u001b[0m\u001b[0;34m(\u001b[0m\u001b[0merror_msgs\u001b[0m\u001b[0;34m)\u001b[0m \u001b[0;34m>\u001b[0m \u001b[0;36m0\u001b[0m\u001b[0;34m:\u001b[0m\u001b[0;34m\u001b[0m\u001b[0;34m\u001b[0m\u001b[0m\n\u001b[0;32m-> 2152\u001b[0;31m             raise RuntimeError('Error(s) in loading state_dict for {}:\\n\\t{}'.format(\n\u001b[0m\u001b[1;32m   2153\u001b[0m                                self.__class__.__name__, \"\\n\\t\".join(error_msgs)))\n\u001b[1;32m   2154\u001b[0m         \u001b[0;32mreturn\u001b[0m \u001b[0m_IncompatibleKeys\u001b[0m\u001b[0;34m(\u001b[0m\u001b[0mmissing_keys\u001b[0m\u001b[0;34m,\u001b[0m \u001b[0munexpected_keys\u001b[0m\u001b[0;34m)\u001b[0m\u001b[0;34m\u001b[0m\u001b[0;34m\u001b[0m\u001b[0m\n",
      "\u001b[0;31mRuntimeError\u001b[0m: Error(s) in loading state_dict for MyModel:\n\tMissing key(s) in state_dict: \"backbone.stages.0.blocks.0.mlp.fc1.weight\", \"backbone.stages.0.blocks.0.mlp.fc1.bias\", \"backbone.stages.0.blocks.0.mlp.fc2.weight\", \"backbone.stages.0.blocks.0.mlp.fc2.bias\", \"backbone.stages.0.blocks.1.mlp.fc1.weight\", \"backbone.stages.0.blocks.1.mlp.fc1.bias\", \"backbone.stages.0.blocks.1.mlp.fc2.weight\", \"backbone.stages.0.blocks.1.mlp.fc2.bias\", \"backbone.stages.0.blocks.2.mlp.fc1.weight\", \"backbone.stages.0.blocks.2.mlp.fc1.bias\", \"backbone.stages.0.blocks.2.mlp.fc2.weight\", \"backbone.stages.0.blocks.2.mlp.fc2.bias\", \"backbone.stages.1.blocks.0.mlp.fc1.weight\", \"backbone.stages.1.blocks.0.mlp.fc1.bias\", \"backbone.stages.1.blocks.0.mlp.fc2.weight\", \"backbone.stages.1.blocks.0.mlp.fc2.bias\", \"backbone.stages.1.blocks.1.mlp.fc1.weight\", \"backbone.stages.1.blocks.1.mlp.fc1.bias\", \"backbone.stages.1.blocks.1.mlp.fc2.weight\", \"backbone.stages.1.blocks.1.mlp.fc2.bias\", \"backbone.stages.1.blocks.2.mlp.fc1.weight\", \"backbone.stages.1.blocks.2.mlp.fc1.bias\", \"backbone.stages.1.blocks.2.mlp.fc2.weight\", \"backbone.stages.1.blocks.2.mlp.fc2.bias\", \"backbone.stages.2.blocks.0.mlp.fc1.weight\", \"backbone.stages.2.blocks.0.mlp.fc1.bias\", \"backbone.stages.2.blocks.0.mlp.fc2.weight\", \"backbone.stages.2.blocks.0.mlp.fc2.bias\", \"backbone.stages.2.blocks.1.mlp.fc1.weight\", \"backbone.stages.2.blocks.1.mlp.fc1.bias\", \"backbone.stages.2.blocks.1.mlp.fc2.weight\", \"backbone.stages.2.blocks.1.mlp.fc2.bias\", \"backbone.stages.2.blocks.2.mlp.fc1.weight\", \"backbone.stages.2.blocks.2.mlp.fc1.bias\", \"backbone.stages.2.blocks.2.mlp.fc2.weight\", \"backbone.stages.2.blocks.2.mlp.fc2.bias\", \"backbone.stages.2.blocks.3.mlp.fc1.weight\", \"backbone.stages.2.blocks.3.mlp.fc1.bias\", \"backbone.stages.2.blocks.3.mlp.fc2.weight\", \"backbone.stages.2.blocks.3.mlp.fc2.bias\", \"backbone.stages.2.blocks.4.mlp.fc1.weight\", \"backbone.stages.2.blocks.4.mlp.fc1.bias\", \"backbone.stages.2.blocks.4.mlp.fc2.weight\", \"backbone.stages.2.blocks.4.mlp.fc2.bias\", \"backbone.stages.2.blocks.5.mlp.fc1.weight\", \"backbone.stages.2.blocks.5.mlp.fc1.bias\", \"backbone.stages.2.blocks.5.mlp.fc2.weight\", \"backbone.stages.2.blocks.5.mlp.fc2.bias\", \"backbone.stages.2.blocks.6.mlp.fc1.weight\", \"backbone.stages.2.blocks.6.mlp.fc1.bias\", \"backbone.stages.2.blocks.6.mlp.fc2.weight\", \"backbone.stages.2.blocks.6.mlp.fc2.bias\", \"backbone.stages.2.blocks.7.mlp.fc1.weight\", \"backbone.stages.2.blocks.7.mlp.fc1.bias\", \"backbone.stages.2.blocks.7.mlp.fc2.weight\", \"backbone.stages.2.blocks.7.mlp.fc2.bias\", \"backbone.stages.2.blocks.8.mlp.fc1.weight\", \"backbone.stages.2.blocks.8.mlp.fc1.bias\", \"backbone.stages.2.blocks.8.mlp.fc2.weight\", \"backbone.stages.2.blocks.8.mlp.fc2.bias\", \"backbone.stages.2.blocks.9.mlp.fc1.weight\", \"backbone.stages.2.blocks.9.mlp.fc1.bias\", \"backbone.stages.2.blocks.9.mlp.fc2.weight\", \"backbone.stages.2.blocks.9.mlp.fc2.bias\", \"backbone.stages.2.blocks.10.mlp.fc1.weight\", \"backbone.stages.2.blocks.10.mlp.fc1.bias\", \"backbone.stages.2.blocks.10.mlp.fc2.weight\", \"backbone.stages.2.blocks.10.mlp.fc2.bias\", \"backbone.stages.2.blocks.11.mlp.fc1.weight\", \"backbone.stages.2.blocks.11.mlp.fc1.bias\", \"backbone.stages.2.blocks.11.mlp.fc2.weight\", \"backbone.stages.2.blocks.11.mlp.fc2.bias\", \"backbone.stages.2.blocks.12.mlp.fc1.weight\", \"backbone.stages.2.blocks.12.mlp.fc1.bias\", \"backbone.stages.2.blocks.12.mlp.fc2.weight\", \"backbone.stages.2.blocks.12.mlp.fc2.bias\", \"backbone.stages.2.blocks.13.mlp.fc1.weight\", \"backbone.stages.2.blocks.13.mlp.fc1.bias\", \"backbone.stages.2.blocks.13.mlp.fc2.weight\", \"backbone.stages.2.blocks.13.mlp.fc2.bias\", \"backbone.stages.2.blocks.14.mlp.fc1.weight\", \"backbone.stages.2.blocks.14.mlp.fc1.bias\", \"backbone.stages.2.blocks.14.mlp.fc2.weight\", \"backbone.stages.2.blocks.14.mlp.fc2.bias\", \"backbone.stages.2.blocks.15.mlp.fc1.weight\", \"backbone.stages.2.blocks.15.mlp.fc1.bias\", \"backbone.stages.2.blocks.15.mlp.fc2.weight\", \"backbone.stages.2.blocks.15.mlp.fc2.bias\", \"backbone.stages.2.blocks.16.mlp.fc1.weight\", \"backbone.stages.2.blocks.16.mlp.fc1.bias\", \"backbone.stages.2.blocks.16.mlp.fc2.weight\", \"backbone.stages.2.blocks.16.mlp.fc2.bias\", \"backbone.stages.2.blocks.17.mlp.fc1.weight\", \"backbone.stages.2.blocks.17.mlp.fc1.bias\", \"backbone.stages.2.blocks.17.mlp.fc2.weight\", \"backbone.stages.2.blocks.17.mlp.fc2.bias\", \"backbone.stages.2.blocks.18.mlp.fc1.weight\", \"backbone.stages.2.blocks.18.mlp.fc1.bias\", \"backbone.stages.2.blocks.18.mlp.fc2.weight\", \"backbone.stages.2.blocks.18.mlp.fc2.bias\", \"backbone.stages.2.blocks.19.mlp.fc1.weight\", \"backbone.stages.2.blocks.19.mlp.fc1.bias\", \"backbone.stages.2.blocks.19.mlp.fc2.weight\", \"backbone.stages.2.blocks.19.mlp.fc2.bias\", \"backbone.stages.2.blocks.20.mlp.fc1.weight\", \"backbone.stages.2.blocks.20.mlp.fc1.bias\", \"backbone.stages.2.blocks.20.mlp.fc2.weight\", \"backbone.stages.2.blocks.20.mlp.fc2.bias\", \"backbone.stages.2.blocks.21.mlp.fc1.weight\", \"backbone.stages.2.blocks.21.mlp.fc1.bias\", \"backbone.stages.2.blocks.21.mlp.fc2.weight\", \"backbone.stages.2.blocks.21.mlp.fc2.bias\", \"backbone.stages.2.blocks.22.mlp.fc1.weight\", \"backbone.stages.2.blocks.22.mlp.fc1.bias\", \"backbone.stages.2.blocks.22.mlp.fc2.weight\", \"backbone.stages.2.blocks.22.mlp.fc2.bias\", \"backbone.stages.2.blocks.23.mlp.fc1.weight\", \"backbone.stages.2.blocks.23.mlp.fc1.bias\", \"backbone.stages.2.blocks.23.mlp.fc2.weight\", \"backbone.stages.2.blocks.23.mlp.fc2.bias\", \"backbone.stages.2.blocks.24.mlp.fc1.weight\", \"backbone.stages.2.blocks.24.mlp.fc1.bias\", \"backbone.stages.2.blocks.24.mlp.fc2.weight\", \"backbone.stages.2.blocks.24.mlp.fc2.bias\", \"backbone.stages.2.blocks.25.mlp.fc1.weight\", \"backbone.stages.2.blocks.25.mlp.fc1.bias\", \"backbone.stages.2.blocks.25.mlp.fc2.weight\", \"backbone.stages.2.blocks.25.mlp.fc2.bias\", \"backbone.stages.2.blocks.26.mlp.fc1.weight\", \"backbone.stages.2.blocks.26.mlp.fc1.bias\", \"backbone.stages.2.blocks.26.mlp.fc2.weight\", \"backbone.stages.2.blocks.26.mlp.fc2.bias\", \"backbone.stages.3.blocks.0.mlp.fc1.weight\", \"backbone.stages.3.blocks.0.mlp.fc1.bias\", \"backbone.stages.3.blocks.0.mlp.fc2.weight\", \"backbone.stages.3.blocks.0.mlp.fc2.bias\", \"backbone.stages.3.blocks.1.mlp.fc1.weight\", \"backbone.stages.3.blocks.1.mlp.fc1.bias\", \"backbone.stages.3.blocks.1.mlp.fc2.weight\", \"backbone.stages.3.blocks.1.mlp.fc2.bias\", \"backbone.stages.3.blocks.2.mlp.fc1.weight\", \"backbone.stages.3.blocks.2.mlp.fc1.bias\", \"backbone.stages.3.blocks.2.mlp.fc2.weight\", \"backbone.stages.3.blocks.2.mlp.fc2.bias\", \"backbone.head.fc.weight\", \"backbone.head.fc.bias\", \"out.weight\", \"out.bias\". \n\tUnexpected key(s) in state_dict: \"backbone.stages.0.blocks.0.mlp.fc1.scale\", \"backbone.stages.0.blocks.0.mlp.fc1.zero_point\", \"backbone.stages.0.blocks.0.mlp.fc1._packed_params.dtype\", \"backbone.stages.0.blocks.0.mlp.fc1._packed_params._packed_params\", \"backbone.stages.0.blocks.0.mlp.fc2.scale\", \"backbone.stages.0.blocks.0.mlp.fc2.zero_point\", \"backbone.stages.0.blocks.0.mlp.fc2._packed_params.dtype\", \"backbone.stages.0.blocks.0.mlp.fc2._packed_params._packed_params\", \"backbone.stages.0.blocks.1.mlp.fc1.scale\", \"backbone.stages.0.blocks.1.mlp.fc1.zero_point\", \"backbone.stages.0.blocks.1.mlp.fc1._packed_params.dtype\", \"backbone.stages.0.blocks.1.mlp.fc1._packed_params._packed_params\", \"backbone.stages.0.blocks.1.mlp.fc2.scale\", \"backbone.stages.0.blocks.1.mlp.fc2.zero_point\", \"backbone.stages.0.blocks.1.mlp.fc2._packed_params.dtype\", \"backbone.stages.0.blocks.1.mlp.fc2._packed_params._packed_params\", \"backbone.stages.0.blocks.2.mlp.fc1.scale\", \"backbone.stages.0.blocks.2.mlp.fc1.zero_point\", \"backbone.stages.0.blocks.2.mlp.fc1._packed_params.dtype\", \"backbone.stages.0.blocks.2.mlp.fc1._packed_params._packed_params\", \"backbone.stages.0.blocks.2.mlp.fc2.scale\", \"backbone.stages.0.blocks.2.mlp.fc2.zero_point\", \"backbone.stages.0.blocks.2.mlp.fc2._packed_params.dtype\", \"backbone.stages.0.blocks.2.mlp.fc2._packed_params._packed_params\", \"backbone.stages.1.blocks.0.mlp.fc1.scale\", \"backbone.stages.1.blocks.0.mlp.fc1.zero_point\", \"backbone.stages.1.blocks.0.mlp.fc1._packed_params.dtype\", \"backbone.stages.1.blocks.0.mlp.fc1._packed_params._packed_params\", \"backbone.stages.1.blocks.0.mlp.fc2.scale\", \"backbone.stages.1.blocks.0.mlp.fc2.zero_point\", \"backbone.stages.1.blocks.0.mlp.fc2._packed_params.dtype\", \"backbone.stages.1.blocks.0.mlp.fc2._packed_params._packed_params\", \"backbone.stages.1.blocks.1.mlp.fc1.scale\", \"backbone.stages.1.blocks.1.mlp.fc1.zero_point\", \"backbone.stages.1.blocks.1.mlp.fc1._packed_params.dtype\", \"backbone.stages.1.blocks.1.mlp.fc1._packed_params._packed_params\", \"backbone.stages.1.blocks.1.mlp.fc2.scale\", \"backbone.stages.1.blocks.1.mlp.fc2.zero_point\", \"backbone.stages.1.blocks.1.mlp.fc2._packed_params.dtype\", \"backbone.stages.1.blocks.1.mlp.fc2._packed_params._packed_params\", \"backbone.stages.1.blocks.2.mlp.fc1.scale\", \"backbone.stages.1.blocks.2.mlp.fc1.zero_point\", \"backbone.stages.1.blocks.2.mlp.fc1._packed_params.dtype\", \"backbone.stages.1.blocks.2.mlp.fc1._packed_params._packed_params\", \"backbone.stages.1.blocks.2.mlp.fc2.scale\", \"backbone.stages.1.blocks.2.mlp.fc2.zero_point\", \"backbone.stages.1.blocks.2.mlp.fc2._packed_params.dtype\", \"backbone.stages.1.blocks.2.mlp.fc2._packed_params._packed_params\", \"backbone.stages.2.blocks.0.mlp.fc1.scale\", \"backbone.stages.2.blocks.0.mlp.fc1.zero_point\", \"backbone.stages.2.blocks.0.mlp.fc1._packed_params.dtype\", \"backbone.stages.2.blocks.0.mlp.fc1._packed_params._packed_params\", \"backbone.stages.2.blocks.0.mlp.fc2.scale\", \"backbone.stages.2.blocks.0.mlp.fc2.zero_point\", \"backbone.stages.2.blocks.0.mlp.fc2._packed_params.dtype\", \"backbone.stages.2.blocks.0.mlp.fc2._packed_params._packed_params\", \"backbone.stages.2.blocks.1.mlp.fc1.scale\", \"backbone.stages.2.blocks.1.mlp.fc1.zero_point\", \"backbone.stages.2.blocks.1.mlp.fc1._packed_params.dtype\", \"backbone.stages.2.blocks.1.mlp.fc1._packed_params._packed_params\", \"backbone.stages.2.blocks.1.mlp.fc2.scale\", \"backbone.stages.2.blocks.1.mlp.fc2.zero_point\", \"backbone.stages.2.blocks.1.mlp.fc2._packed_params.dtype\", \"backbone.stages.2.blocks.1.mlp.fc2._packed_params._packed_params\", \"backbone.stages.2.blocks.2.mlp.fc1.scale\", \"backbone.stages.2.blocks.2.mlp.fc1.zero_point\", \"backbone.stages.2.blocks.2.mlp.fc1._packed_params.dtype\", \"backbone.stages.2.blocks.2.mlp.fc1._packed_params._packed_params\", \"backbone.stages.2.blocks.2.mlp.fc2.scale\", \"backbone.stages.2.blocks.2.mlp.fc2.zero_point\", \"backbone.stages.2.blocks.2.mlp.fc2._packed_params.dtype\", \"backbone.stages.2.blocks.2.mlp.fc2._packed_params._packed_params\", \"backbone.stages.2.blocks.3.mlp.fc1.scale\", \"backbone.stages.2.blocks.3.mlp.fc1.zero_point\", \"backbone.stages.2.blocks.3.mlp.fc1._packed_params.dtype\", \"backbone.stages.2.blocks.3.mlp.fc1._packed_params._packed_params\", \"backbone.stages.2.blocks.3.mlp.fc2.scale\", \"backbone.stages.2.blocks.3.mlp.fc2.zero_point\", \"backbone.stages.2.blocks.3.mlp.fc2._packed_params.dtype\", \"backbone.stages.2.blocks.3.mlp.fc2._packed_params._packed_params\", \"backbone.stages.2.blocks.4.mlp.fc1.scale\", \"backbone.stages.2.blocks.4.mlp.fc1.zero_point\", \"backbone.stages.2.blocks.4.mlp.fc1._packed_params.dtype\", \"backbone.stages.2.blocks.4.mlp.fc1._packed_params._packed_params\", \"backbone.stages.2.blocks.4.mlp.fc2.scale\", \"backbone.stages.2.blocks.4.mlp.fc2.zero_point\", \"backbone.stages.2.blocks.4.mlp.fc2._packed_params.dtype\", \"backbone.stages.2.blocks.4.mlp.fc2._packed_params._packed_params\", \"backbone.stages.2.blocks.5.mlp.fc1.scale\", \"backbone.stages.2.blocks.5.mlp.fc1.zero_point\", \"backbone.stages.2.blocks.5.mlp.fc1._packed_params.dtype\", \"backbone.stages.2.blocks.5.mlp.fc1._packed_params._packed_params\", \"backbone.stages.2.blocks.5.mlp.fc2.scale\", \"backbone.stages.2.blocks.5.mlp.fc2.zero_point\", \"backbone.stages.2.blocks.5.mlp.fc2._packed_params.dtype\", \"backbone.stages.2.blocks.5.mlp.fc2._packed_params._packed_params\", \"backbone.stages.2.blocks.6.mlp.fc1.scale\", \"backbone.stages.2.blocks.6.mlp.fc1.zero_point\", \"backbone.stages.2.blocks.6.mlp.fc1._packed_params.dtype\", \"backbone.stages.2.blocks.6.mlp.fc1._packed_params._packed_params\", \"backbone.stages.2.blocks.6.mlp.fc2.scale\", \"backbone.stages.2.blocks.6.mlp.fc2.zero_point\", \"backbone.stages.2.blocks.6.mlp.fc2._packed_params.dtype\", \"backbone.stages.2.blocks.6.mlp.fc2._packed_params._packed_params\", \"backbone.stages.2.blocks.7.mlp.fc1.scale\", \"backbone.stages.2.blocks.7.mlp.fc1.zero_point\", \"backbone.stages.2.blocks.7.mlp.fc1._packed_params.dtype\", \"backbone.stages.2.blocks.7.mlp.fc1._packed_params._packed_params\", \"backbone.stages.2.blocks.7.mlp.fc2.scale\", \"backbone.stages.2.blocks.7.mlp.fc2.zero_point\", \"backbone.stages.2.blocks.7.mlp.fc2._packed_params.dtype\", \"backbone.stages.2.blocks.7.mlp.fc2._packed_params._packed_params\", \"backbone.stages.2.blocks.8.mlp.fc1.scale\", \"backbone.stages.2.blocks.8.mlp.fc1.zero_point\", \"backbone.stages.2.blocks.8.mlp.fc1._packed_params.dtype\", \"backbone.stages.2.blocks.8.mlp.fc1._packed_params._packed_params\", \"backbone.stages.2.blocks.8.mlp.fc2.scale\", \"backbone.stages.2.blocks.8.mlp.fc2.zero_point\", \"backbone.stages.2.blocks.8.mlp.fc2._packed_params.dtype\", \"backbone.stages.2.blocks.8.mlp.fc2._packed_params._packed_params\", \"backbone.stages.2.blocks.9.mlp.fc1.scale\", \"backbone.stages.2.blocks.9.mlp.fc1.zero_point\", \"backbone.stages.2.blocks.9.mlp.fc1._packed_params.dtype\", \"backbone.stages.2.blocks.9.mlp.fc1._packed_params._packed_params\", \"backbone.stages.2.blocks.9.mlp.fc2.scale\", \"backbone.stages.2.blocks.9.mlp.fc2.zero_point\", \"backbone.stages.2.blocks.9.mlp.fc2._packed_params.dtype\", \"backbone.stages.2.blocks.9.mlp.fc2._packed_params._packed_params\", \"backbone.stages.2.blocks.10.mlp.fc1.scale\", \"backbone.stages.2.blocks.10.mlp.fc1.zero_point\", \"backbone.stages.2.blocks.10.mlp.fc1._packed_params.dtype\", \"backbone.stages.2.blocks.10.mlp.fc1._packed_params._packed_params\", \"backbone.stages.2.blocks.10.mlp.fc2.scale\", \"backbone.stages.2.blocks.10.mlp.fc2.zero_point\", \"backbone.stages.2.blocks.10.mlp.fc2._packed_params.dtype\", \"backbone.stages.2.blocks.10.mlp.fc2._packed_params._packed_params\", \"backbone.stages.2.blocks.11.mlp.fc1.scale\", \"backbone.stages.2.blocks.11.mlp.fc1.zero_point\", \"backbone.stages.2.blocks.11.mlp.fc1._packed_params.dtype\", \"backbone.stages.2.blocks.11.mlp.fc1._packed_params._packed_params\", \"backbone.stages.2.blocks.11.mlp.fc2.scale\", \"backbone.stages.2.blocks.11.mlp.fc2.zero_point\", \"backbone.stages.2.blocks.11.mlp.fc2._packed_params.dtype\", \"backbone.stages.2.blocks.11.mlp.fc2._packed_params._packed_params\", \"backbone.stages.2.blocks.12.mlp.fc1.scale\", \"backbone.stages.2.blocks.12.mlp.fc1.zero_point\", \"backbone.stages.2.blocks.12.mlp.fc1._packed_params.dtype\", \"backbone.stages.2.blocks.12.mlp.fc1._packed_params._packed_params\", \"backbone.stages.2.blocks.12.mlp.fc2.scale\", \"backbone.stages.2.blocks.12.mlp.fc2.zero_point\", \"backbone.stages.2.blocks.12.mlp.fc2._packed_params.dtype\", \"backbone.stages.2.blocks.12.mlp.fc2._packed_params._packed_params\", \"backbone.stages.2.blocks.13.mlp.fc1.scale\", \"backbone.stages.2.blocks.13.mlp.fc1.zero_point\", \"backbone.stages.2.blocks.13.mlp.fc1._packed_params.dtype\", \"backbone.stages.2.blocks.13.mlp.fc1._packed_params._packed_params\", \"backbone.stages.2.blocks.13.mlp.fc2.scale\", \"backbone.stages.2.blocks.13.mlp.fc2.zero_point\", \"backbone.stages.2.blocks.13.mlp.fc2._packed_params.dtype\", \"backbone.stages.2.blocks.13.mlp.fc2._packed_params._packed_params\", \"backbone.stages.2.blocks.14.mlp.fc1.scale\", \"backbone.stages.2.blocks.14.mlp.fc1.zero_point\", \"backbone.stages.2.blocks.14.mlp.fc1._packed_params.dtype\", \"backbone.stages.2.blocks.14.mlp.fc1._packed_params._packed_params\", \"backbone.stages.2.blocks.14.mlp.fc2.scale\", \"backbone.stages.2.blocks.14.mlp.fc2.zero_point\", \"backbone.stages.2.blocks.14.mlp.fc2._packed_params.dtype\", \"backbone.stages.2.blocks.14.mlp.fc2._packed_params._packed_params\", \"backbone.stages.2.blocks.15.mlp.fc1.scale\", \"backbone.stages.2.blocks.15.mlp.fc1.zero_point\", \"backbone.stages.2.blocks.15.mlp.fc1._packed_params.dtype\", \"backbone.stages.2.blocks.15.mlp.fc1._packed_params._packed_params\", \"backbone.stages.2.blocks.15.mlp.fc2.scale\", \"backbone.stages.2.blocks.15.mlp.fc2.zero_point\", \"backbone.stages.2.blocks.15.mlp.fc2._packed_params.dtype\", \"backbone.stages.2.blocks.15.mlp.fc2._packed_params._packed_params\", \"backbone.stages.2.blocks.16.mlp.fc1.scale\", \"backbone.stages.2.blocks.16.mlp.fc1.zero_point\", \"backbone.stages.2.blocks.16.mlp.fc1._packed_params.dtype\", \"backbone.stages.2.blocks.16.mlp.fc1._packed_params._packed_params\", \"backbone.stages.2.blocks.16.mlp.fc2.scale\", \"backbone.stages.2.blocks.16.mlp.fc2.zero_point\", \"backbone.stages.2.blocks.16.mlp.fc2._packed_params.dtype\", \"backbone.stages.2.blocks.16.mlp.fc2._packed_params._packed_params\", \"backbone.stages.2.blocks.17.mlp.fc1.scale\", \"backbone.stages.2.blocks.17.mlp.fc1.zero_point\", \"backbone.stages.2.blocks.17.mlp.fc1._packed_params.dtype\", \"backbone.stages.2.blocks.17.mlp.fc1._packed_params._packed_params\", \"backbone.stages.2.blocks.17.mlp.fc2.scale\", \"backbone.stages.2.blocks.17.mlp.fc2.zero_point\", \"backbone.stages.2.blocks.17.mlp.fc2._packed_params.dtype\", \"backbone.stages.2.blocks.17.mlp.fc2._packed_params._packed_params\", \"backbone.stages.2.blocks.18.mlp.fc1.scale\", \"backbone.stages.2.blocks.18.mlp.fc1.zero_point\", \"backbone.stages.2.blocks.18.mlp.fc1._packed_params.dtype\", \"backbone.stages.2.blocks.18.mlp.fc1._packed_params._packed_params\", \"backbone.stages.2.blocks.18.mlp.fc2.scale\", \"backbone.stages.2.blocks.18.mlp.fc2.zero_point\", \"backbone.stages.2.blocks.18.mlp.fc2._packed_params.dtype\", \"backbone.stages.2.blocks.18.mlp.fc2._packed_params._packed_params\", \"backbone.stages.2.blocks.19.mlp.fc1.scale\", \"backbone.stages.2.blocks.19.mlp.fc1.zero_point\", \"backbone.stages.2.blocks.19.mlp.fc1._packed_params.dtype\", \"backbone.stages.2.blocks.19.mlp.fc1._packed_params._packed_params\", \"backbone.stages.2.blocks.19.mlp.fc2.scale\", \"backbone.stages.2.blocks.19.mlp.fc2.zero_point\", \"backbone.stages.2.blocks.19.mlp.fc2._packed_params.dtype\", \"backbone.stages.2.blocks.19.mlp.fc2._packed_params._packed_params\", \"backbone.stages.2.blocks.20.mlp.fc1.scale\", \"backbone.stages.2.blocks.20.mlp.fc1.zero_point\", \"backbone.stages.2.blocks.20.mlp.fc1._packed_params.dtype\", \"backbone.stages.2.blocks.20.mlp.fc1._packed_params._packed_params\", \"backbone.stages.2.blocks.20.mlp.fc2.scale\", \"backbone.stages.2.blocks.20.mlp.fc2.zero_point\", \"backbone.stages.2.blocks.20.mlp.fc2._packed_params.dtype\", \"backbone.stages.2.blocks.20.mlp.fc2._packed_params._packed_params\", \"backbone.stages.2.blocks.21.mlp.fc1.scale\", \"backbone.stages.2.blocks.21.mlp.fc1.zero_point\", \"backbone.stages.2.blocks.21.mlp.fc1._packed_params.dtype\", \"backbone.stages.2.blocks.21.mlp.fc1._packed_params._packed_params\", \"backbone.stages.2.blocks.21.mlp.fc2.scale\", \"backbone.stages.2.blocks.21.mlp.fc2.zero_point\", \"backbone.stages.2.blocks.21.mlp.fc2._packed_params.dtype\", \"backbone.stages.2.blocks.21.mlp.fc2._packed_params._packed_params\", \"backbone.stages.2.blocks.22.mlp.fc1.scale\", \"backbone.stages.2.blocks.22.mlp.fc1.zero_point\", \"backbone.stages.2.blocks.22.mlp.fc1._packed_params.dtype\", \"backbone.stages.2.blocks.22.mlp.fc1._packed_params._packed_params\", \"backbone.stages.2.blocks.22.mlp.fc2.scale\", \"backbone.stages.2.blocks.22.mlp.fc2.zero_point\", \"backbone.stages.2.blocks.22.mlp.fc2._packed_params.dtype\", \"backbone.stages.2.blocks.22.mlp.fc2._packed_params._packed_params\", \"backbone.stages.2.blocks.23.mlp.fc1.scale\", \"backbone.stages.2.blocks.23.mlp.fc1.zero_point\", \"backbone.stages.2.blocks.23.mlp.fc1._packed_params.dtype\", \"backbone.stages.2.blocks.23.mlp.fc1._packed_params._packed_params\", \"backbone.stages.2.blocks.23.mlp.fc2.scale\", \"backbone.stages.2.blocks.23.mlp.fc2.zero_point\", \"backbone.stages.2.blocks.23.mlp.fc2._packed_params.dtype\", \"backbone.stages.2.blocks.23.mlp.fc2._packed_params._packed_params\", \"backbone.stages.2.blocks.24.mlp.fc1.scale\", \"backbone.stages.2.blocks.24.mlp.fc1.zero_point\", \"backbone.stages.2.blocks.24.mlp.fc1._packed_params.dtype\", \"backbone.stages.2.blocks.24.mlp.fc1._packed_params._packed_params\", \"backbone.stages.2.blocks.24.mlp.fc2.scale\", \"backbone.stages.2.blocks.24.mlp.fc2.zero_point\", \"backbone.stages.2.blocks.24.mlp.fc2._packed_params.dtype\", \"backbone.stages.2.blocks.24.mlp.fc2._packed_params._packed_params\", \"backbone.stages.2.blocks.25.mlp.fc1.scale\", \"backbone.stages.2.blocks.25.mlp.fc1.zero_point\", \"backbone.stages.2.blocks.25.mlp.fc1._packed_params.dtype\", \"backbone.stages.2.blocks.25.mlp.fc1._packed_params._packed_params\", \"backbone.stages.2.blocks.25.mlp.fc2.scale\", \"backbone.stages.2.blocks.25.mlp.fc2.zero_point\", \"backbone.stages.2.blocks.25.mlp.fc2._packed_params.dtype\", \"backbone.stages.2.blocks.25.mlp.fc2._packed_params._packed_params\", \"backbone.stages.2.blocks.26.mlp.fc1.scale\", \"backbone.stages.2.blocks.26.mlp.fc1.zero_point\", \"backbone.stages.2.blocks.26.mlp.fc1._packed_params.dtype\", \"backbone.stages.2.blocks.26.mlp.fc1._packed_params._packed_params\", \"backbone.stages.2.blocks.26.mlp.fc2.scale\", \"backbone.stages.2.blocks.26.mlp.fc2.zero_point\", \"backbone.stages.2.blocks.26.mlp.fc2._packed_params.dtype\", \"backbone.stages.2.blocks.26.mlp.fc2._packed_params._packed_params\", \"backbone.stages.3.blocks.0.mlp.fc1.scale\", \"backbone.stages.3.blocks.0.mlp.fc1.zero_point\", \"backbone.stages.3.blocks.0.mlp.fc1._packed_params.dtype\", \"backbone.stages.3.blocks.0.mlp.fc1._packed_params._packed_params\", \"backbone.stages.3.blocks.0.mlp.fc2.scale\", \"backbone.stages.3.blocks.0.mlp.fc2.zero_point\", \"backbone.stages.3.blocks.0.mlp.fc2._packed_params.dtype\", \"backbone.stages.3.blocks.0.mlp.fc2._packed_params._packed_params\", \"backbone.stages.3.blocks.1.mlp.fc1.scale\", \"backbone.stages.3.blocks.1.mlp.fc1.zero_point\", \"backbone.stages.3.blocks.1.mlp.fc1._packed_params.dtype\", \"backbone.stages.3.blocks.1.mlp.fc1._packed_params._packed_params\", \"backbone.stages.3.blocks.1.mlp.fc2.scale\", \"backbone.stages.3.blocks.1.mlp.fc2.zero_point\", \"backbone.stages.3.blocks.1.mlp.fc2._packed_params.dtype\", \"backbone.stages.3.blocks.1.mlp.fc2._packed_params._packed_params\", \"backbone.stages.3.blocks.2.mlp.fc1.scale\", \"backbone.stages.3.blocks.2.mlp.fc1.zero_point\", \"backbone.stages.3.blocks.2.mlp.fc1._packed_params.dtype\", \"backbone.stages.3.blocks.2.mlp.fc1._packed_params._packed_params\", \"backbone.stages.3.blocks.2.mlp.fc2.scale\", \"backbone.stages.3.blocks.2.mlp.fc2.zero_point\", \"backbone.stages.3.blocks.2.mlp.fc2._packed_params.dtype\", \"backbone.stages.3.blocks.2.mlp.fc2._packed_params._packed_params\", \"backbone.head.fc.scale\", \"backbone.head.fc.zero_point\", \"backbone.head.fc._packed_params.dtype\", \"backbone.head.fc._packed_params._packed_params\", \"out.scale\", \"out.zero_point\", \"out._packed_params.dtype\", \"out._packed_params._packed_params\". "
     ]
    }
   ],
   "source": [
    "myModel = load_model(model_file).to('cpu')\n",
    "#print_model_size(myModel)"
   ]
  },
  {
   "cell_type": "code",
   "execution_count": 19,
   "id": "8fd0fa34",
   "metadata": {},
   "outputs": [
    {
     "name": "stdout",
     "output_type": "stream",
     "text": [
      "188.65175247192383\n"
     ]
    }
   ],
   "source": [
    "num_params = sum(p.numel() for p in myModel.parameters())\n",
    "\n",
    "# Convert the number of parameters to megabytes\n",
    "model_size_mb = num_params * 4 / (1024 ** 2)  \n",
    "print(model_size_mb)"
   ]
  },
  {
   "cell_type": "code",
   "execution_count": 21,
   "id": "0d3ce982",
   "metadata": {},
   "outputs": [
    {
     "name": "stdout",
     "output_type": "stream",
     "text": [
      "188.65175247192383\n"
     ]
    }
   ],
   "source": [
    "model_int8_384 = torch.quantization.quantize_dynamic(myModel,  # the original model\n",
    "    {torch.nn.Linear, torch.nn.Conv2d, torch.nn.GELU, torch.nn.BatchNorm2d}, \n",
    "    dtype=torch.qint8) \n",
    "\n",
    "#num_params = sum(p.numel() for p in model_int8.parameters())\n",
    "\n",
    "# Convert the number of parameters to megabytes\n",
    "#model_size_mb = num_params * 4 / (1024 ** 2)  \n",
    "print(model_size_mb)"
   ]
  },
  {
   "cell_type": "code",
   "execution_count": 18,
   "id": "93aa33af",
   "metadata": {},
   "outputs": [
    {
     "name": "stdout",
     "output_type": "stream",
     "text": [
      "/dli/task/ComParE2022_VecNet/notebooks/DK\n"
     ]
    }
   ],
   "source": [
    "!pwd"
   ]
  },
  {
   "cell_type": "code",
   "execution_count": 23,
   "id": "cd70c86b",
   "metadata": {},
   "outputs": [],
   "source": [
    "chk_pt_name = \"model_int8_384.pth\"\n",
    "torch.save(model_int8_384.state_dict(), chk_pt_name)\n"
   ]
  },
  {
   "cell_type": "code",
   "execution_count": 3,
   "id": "ca594951",
   "metadata": {},
   "outputs": [],
   "source": [
    "import torch,timm"
   ]
  },
  {
   "cell_type": "code",
   "execution_count": 2,
   "id": "3069c247",
   "metadata": {},
   "outputs": [
    {
     "name": "stdout",
     "output_type": "stream",
     "text": [
      "2.1.0+cu121\n"
     ]
    }
   ],
   "source": [
    "print(torch.__version__)"
   ]
  },
  {
   "cell_type": "code",
   "execution_count": 4,
   "id": "6c451112",
   "metadata": {},
   "outputs": [
    {
     "name": "stdout",
     "output_type": "stream",
     "text": [
      "0.9.7\n"
     ]
    }
   ],
   "source": [
    "print(timm.__version__)"
   ]
  },
  {
   "cell_type": "code",
   "execution_count": null,
   "id": "07e877ab",
   "metadata": {},
   "outputs": [],
   "source": []
  }
 ],
 "metadata": {
  "kernelspec": {
   "display_name": "Python 3 (ipykernel)",
   "language": "python",
   "name": "python3"
  },
  "language_info": {
   "codemirror_mode": {
    "name": "ipython",
    "version": 3
   },
   "file_extension": ".py",
   "mimetype": "text/x-python",
   "name": "python",
   "nbconvert_exporter": "python",
   "pygments_lexer": "ipython3",
   "version": "3.8.12"
  }
 },
 "nbformat": 4,
 "nbformat_minor": 5
}
