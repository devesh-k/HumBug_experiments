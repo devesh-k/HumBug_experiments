{
 "cells": [
  {
   "cell_type": "code",
   "execution_count": null,
   "id": "11b3355f",
   "metadata": {},
   "outputs": [],
   "source": [
    "def greet(name):\n",
    "    print(f\"Hello, {name}!\")\n",
    "\n",
    "def calculate_sum(a, b):\n",
    "    return a + b\n",
    "\n",
    "\n",
    "    \n",
    "if __name__ == '__main__':\n",
    "    greet(\"Alice\")\n",
    "    greet(\"Bob\")\n",
    "    result = calculate_sum(3, 5)\n",
    "    print(f\"The sum is {result}.\")\n",
    "\n",
    "    \n"
   ]
  }
 ],
 "metadata": {
  "kernelspec": {
   "display_name": "Python 3",
   "language": "python",
   "name": "python3"
  },
  "language_info": {
   "codemirror_mode": {
    "name": "ipython",
    "version": 3
   },
   "file_extension": ".py",
   "mimetype": "text/x-python",
   "name": "python",
   "nbconvert_exporter": "python",
   "pygments_lexer": "ipython3",
   "version": "3.8.12"
  }
 },
 "nbformat": 4,
 "nbformat_minor": 5
}
